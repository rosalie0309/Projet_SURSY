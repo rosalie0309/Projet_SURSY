{
 "cells": [
  {
   "cell_type": "markdown",
   "id": "b5cb84e8",
   "metadata": {},
   "source": [
    "### Nous allons ici faire quelques applications d'augmentation des données textuelles en suivant un tutoriel sur medium "
   ]
  },
  {
   "cell_type": "code",
   "execution_count": null,
   "id": "73361097",
   "metadata": {},
   "outputs": [],
   "source": [
    "!pip install nlpaug\n",
    "!pip install sacremoses"
   ]
  },
  {
   "cell_type": "markdown",
   "id": "a87df1a7",
   "metadata": {},
   "source": [
    "Version de PyTorch qui sera compatible avec CUDA 12.2 que nous avons utilisé "
   ]
  },
  {
   "cell_type": "code",
   "execution_count": 8,
   "id": "92a995b6",
   "metadata": {},
   "outputs": [
    {
     "name": "stdout",
     "output_type": "stream",
     "text": [
      "Found existing installation: torch 2.6.0+cpu\n",
      "Uninstalling torch-2.6.0+cpu:\n",
      "  Successfully uninstalled torch-2.6.0+cpu\n",
      "Found existing installation: torchvision 0.20.1+cu121\n",
      "Uninstalling torchvision-0.20.1+cu121:\n",
      "  Successfully uninstalled torchvision-0.20.1+cu121\n",
      "Found existing installation: torchaudio 2.5.1+cu121\n",
      "Uninstalling torchaudio-2.5.1+cu121:\n",
      "  Successfully uninstalled torchaudio-2.5.1+cu121\n",
      "Looking in indexes: https://download.pytorch.org/whl/cu121\n",
      "Collecting torch==2.5.1+cu121\n",
      "  Using cached https://download.pytorch.org/whl/cu121/torch-2.5.1%2Bcu121-cp312-cp312-linux_x86_64.whl (780.4 MB)\n",
      "Collecting torchvision==0.20.1+cu121\n",
      "  Using cached https://download.pytorch.org/whl/cu121/torchvision-0.20.1%2Bcu121-cp312-cp312-linux_x86_64.whl (7.3 MB)\n",
      "Collecting torchaudio==2.5.1\n",
      "  Using cached https://download.pytorch.org/whl/cu121/torchaudio-2.5.1%2Bcu121-cp312-cp312-linux_x86_64.whl (3.4 MB)\n",
      "Requirement already satisfied: filelock in /home/rosalie/miniforge3/lib/python3.12/site-packages (from torch==2.5.1+cu121) (3.19.1)\n",
      "Requirement already satisfied: typing-extensions>=4.8.0 in /home/rosalie/miniforge3/lib/python3.12/site-packages (from torch==2.5.1+cu121) (4.14.1)\n",
      "Requirement already satisfied: networkx in /home/rosalie/miniforge3/lib/python3.12/site-packages (from torch==2.5.1+cu121) (3.5)\n",
      "Requirement already satisfied: jinja2 in /home/rosalie/miniforge3/lib/python3.12/site-packages (from torch==2.5.1+cu121) (3.1.6)\n",
      "Requirement already satisfied: fsspec in /home/rosalie/miniforge3/lib/python3.12/site-packages (from torch==2.5.1+cu121) (2025.3.0)\n",
      "Requirement already satisfied: nvidia-cuda-nvrtc-cu12==12.1.105 in /home/rosalie/miniforge3/lib/python3.12/site-packages (from torch==2.5.1+cu121) (12.1.105)\n",
      "Requirement already satisfied: nvidia-cuda-runtime-cu12==12.1.105 in /home/rosalie/miniforge3/lib/python3.12/site-packages (from torch==2.5.1+cu121) (12.1.105)\n",
      "Requirement already satisfied: nvidia-cuda-cupti-cu12==12.1.105 in /home/rosalie/miniforge3/lib/python3.12/site-packages (from torch==2.5.1+cu121) (12.1.105)\n",
      "Requirement already satisfied: nvidia-cudnn-cu12==9.1.0.70 in /home/rosalie/miniforge3/lib/python3.12/site-packages (from torch==2.5.1+cu121) (9.1.0.70)\n",
      "Requirement already satisfied: nvidia-cublas-cu12==12.1.3.1 in /home/rosalie/miniforge3/lib/python3.12/site-packages (from torch==2.5.1+cu121) (12.1.3.1)\n",
      "Requirement already satisfied: nvidia-cufft-cu12==11.0.2.54 in /home/rosalie/miniforge3/lib/python3.12/site-packages (from torch==2.5.1+cu121) (11.0.2.54)\n",
      "Requirement already satisfied: nvidia-curand-cu12==10.3.2.106 in /home/rosalie/miniforge3/lib/python3.12/site-packages (from torch==2.5.1+cu121) (10.3.2.106)\n",
      "Requirement already satisfied: nvidia-cusolver-cu12==11.4.5.107 in /home/rosalie/miniforge3/lib/python3.12/site-packages (from torch==2.5.1+cu121) (11.4.5.107)\n",
      "Requirement already satisfied: nvidia-cusparse-cu12==12.1.0.106 in /home/rosalie/miniforge3/lib/python3.12/site-packages (from torch==2.5.1+cu121) (12.1.0.106)\n",
      "Requirement already satisfied: nvidia-nccl-cu12==2.21.5 in /home/rosalie/miniforge3/lib/python3.12/site-packages (from torch==2.5.1+cu121) (2.21.5)\n",
      "Requirement already satisfied: nvidia-nvtx-cu12==12.1.105 in /home/rosalie/miniforge3/lib/python3.12/site-packages (from torch==2.5.1+cu121) (12.1.105)\n",
      "Requirement already satisfied: triton==3.1.0 in /home/rosalie/miniforge3/lib/python3.12/site-packages (from torch==2.5.1+cu121) (3.1.0)\n",
      "Requirement already satisfied: setuptools in /home/rosalie/miniforge3/lib/python3.12/site-packages (from torch==2.5.1+cu121) (75.8.0)\n",
      "Requirement already satisfied: sympy==1.13.1 in /home/rosalie/miniforge3/lib/python3.12/site-packages (from torch==2.5.1+cu121) (1.13.1)\n",
      "Requirement already satisfied: numpy in /home/rosalie/miniforge3/lib/python3.12/site-packages (from torchvision==0.20.1+cu121) (2.3.2)\n",
      "Requirement already satisfied: pillow!=8.3.*,>=5.3.0 in /home/rosalie/miniforge3/lib/python3.12/site-packages (from torchvision==0.20.1+cu121) (11.3.0)\n",
      "Requirement already satisfied: nvidia-nvjitlink-cu12 in /home/rosalie/miniforge3/lib/python3.12/site-packages (from nvidia-cusolver-cu12==11.4.5.107->torch==2.5.1+cu121) (12.8.93)\n",
      "Requirement already satisfied: mpmath<1.4,>=1.1.0 in /home/rosalie/miniforge3/lib/python3.12/site-packages (from sympy==1.13.1->torch==2.5.1+cu121) (1.3.0)\n",
      "Requirement already satisfied: MarkupSafe>=2.0 in /home/rosalie/miniforge3/lib/python3.12/site-packages (from jinja2->torch==2.5.1+cu121) (3.0.2)\n",
      "Installing collected packages: torch, torchvision, torchaudio\n",
      "Successfully installed torch-2.5.1+cu121 torchaudio-2.5.1+cu121 torchvision-0.20.1+cu121\n"
     ]
    }
   ],
   "source": [
    "!pip uninstall -y torch torchvision torchaudio\n",
    "!pip install torch==2.5.1+cu121 torchvision==0.20.1+cu121 torchaudio==2.5.1 --index-url https://download.pytorch.org/whl/cu121\n"
   ]
  },
  {
   "cell_type": "code",
   "execution_count": 9,
   "id": "9f4c2112",
   "metadata": {},
   "outputs": [],
   "source": [
    "import nlpaug.augmenter.word as naw \n"
   ]
  },
  {
   "cell_type": "code",
   "execution_count": 10,
   "id": "a4a1ae9d",
   "metadata": {},
   "outputs": [],
   "source": [
    "## Un exemple de texte qu'on veut reformuler \n",
    "text = \"The quick brown fox jumps over a lazy dog\""
   ]
  },
  {
   "cell_type": "code",
   "execution_count": 4,
   "id": "04b61473",
   "metadata": {},
   "outputs": [],
   "source": [
    "import os, nltk\n",
    "\n",
    "# 1) Dossier local et inscriptible pour les données NLTK\n",
    "NLTK_DIR = os.path.expanduser(\"~/nltk_data\")\n",
    "os.makedirs(NLTK_DIR, exist_ok=True)\n",
    "if NLTK_DIR not in nltk.data.path:\n",
    "    nltk.data.path.append(NLTK_DIR)\n",
    "\n",
    "# 2) Téléchargements nécessaires\n",
    "# - wordnet + omw-1.4 : pour les synonymes\n",
    "# - averaged_perceptron_tagger_eng : POS tagger (NLTK 3.8+)\n",
    "# - averaged_perceptron_tagger : par compatibilité descendante (certaines libs le demandent encore)\n",
    "# - punkt : tokenisation de base (utile selon les tokenizers)\n",
    "for pkg in [\"wordnet\", \"omw-1.4\", \"averaged_perceptron_tagger_eng\",\n",
    "            \"averaged_perceptron_tagger\", \"punkt\"]:\n",
    "    try:\n",
    "        nltk.download(pkg, download_dir=NLTK_DIR, quiet=True)\n",
    "    except Exception as e:\n",
    "        print(f\"NLTK download failed for {pkg}: {e}\")\n"
   ]
  },
  {
   "cell_type": "markdown",
   "id": "8e8ec41e",
   "metadata": {},
   "source": [
    "#### Synonym Replacement "
   ]
  },
  {
   "cell_type": "code",
   "execution_count": 5,
   "id": "831efad0",
   "metadata": {},
   "outputs": [
    {
     "name": "stdout",
     "output_type": "stream",
     "text": [
      "Synonym Text:  ['The quick robert brown fox bound over a lazy wienerwurst']\n"
     ]
    }
   ],
   "source": [
    "syn_aug = naw.synonym.SynonymAug(aug_src=\"wordnet\")\n",
    "synonym_text = syn_aug.augment(text)\n",
    "print(\"Synonym Text: \", synonym_text)"
   ]
  },
  {
   "cell_type": "markdown",
   "id": "cc4eb4bc",
   "metadata": {},
   "source": [
    "#### Random Substitution"
   ]
  },
  {
   "cell_type": "code",
   "execution_count": 6,
   "id": "a89133a9",
   "metadata": {},
   "outputs": [
    {
     "name": "stdout",
     "output_type": "stream",
     "text": [
      "Substituted Text:  ['_ quick brown _ jumps over a lazy _']\n"
     ]
    }
   ],
   "source": [
    "sub_aug = naw.random.RandomWordAug(action='substitute')\n",
    "substituted_text = sub_aug.augment(text)\n",
    "print(\"Substituted Text: \", substituted_text)"
   ]
  },
  {
   "cell_type": "markdown",
   "id": "c1c34e66",
   "metadata": {},
   "source": [
    "### Random Deletion"
   ]
  },
  {
   "cell_type": "code",
   "execution_count": 7,
   "id": "ad081b77",
   "metadata": {},
   "outputs": [
    {
     "name": "stdout",
     "output_type": "stream",
     "text": [
      "Deletion Text:  ['The jumps over a lazy dog']\n"
     ]
    }
   ],
   "source": [
    "del_aug = naw.random.RandomWordAug(action='delete')\n",
    "deletion_text = del_aug.augment(text)\n",
    "print(\"Deletion Text: \", deletion_text)"
   ]
  },
  {
   "cell_type": "markdown",
   "id": "f062258d",
   "metadata": {},
   "source": [
    "### Random Swap"
   ]
  },
  {
   "cell_type": "code",
   "execution_count": 8,
   "id": "fb44cd6b",
   "metadata": {},
   "outputs": [
    {
     "name": "stdout",
     "output_type": "stream",
     "text": [
      "Swap Text:  ['Quick the brown jumps fox over lazy a dog']\n"
     ]
    }
   ],
   "source": [
    "swap_aug = naw.random.RandomWordAug(action='swap')\n",
    "swap_text = swap_aug.augment(text)\n",
    "print(\"Swap Text: \", swap_text)"
   ]
  },
  {
   "cell_type": "markdown",
   "id": "9decddfb",
   "metadata": {},
   "source": [
    "### Back Translation\n",
    "\n",
    "Translate original text to other language (like french) and convert back to english language"
   ]
  },
  {
   "cell_type": "code",
   "execution_count": 3,
   "id": "2a95e1cf",
   "metadata": {},
   "outputs": [
    {
     "name": "stdout",
     "output_type": "stream",
     "text": [
      "Back Translated Text:  ['The fast brown fox jumps on a lazy dog']\n"
     ]
    }
   ],
   "source": [
    "# on utilise un modèle de traduction anglais-français et français-anglais\n",
    "# pour reformuler le texte en anglais\n",
    "import nlpaug.augmenter.word as naw\n",
    "import torch\n",
    "\n",
    "device = 'cuda' if torch.cuda.is_available() else 'cpu'\n",
    "\n",
    "back_trans_aug = naw.BackTranslationAug(\n",
    "    from_model_name='Helsinki-NLP/opus-mt-en-fr',\n",
    "    to_model_name='Helsinki-NLP/opus-mt-fr-en',\n",
    "    device=device,\n",
    "    max_length=300\n",
    ")\n",
    "\n",
    "back_trans_text = back_trans_aug.augment(text)\n",
    "print(\"Back Translated Text: \", back_trans_text)"
   ]
  },
  {
   "cell_type": "code",
   "execution_count": 1,
   "id": "be4111dd",
   "metadata": {},
   "outputs": [
    {
     "name": "stderr",
     "output_type": "stream",
     "text": [
      "/home/rosalie/miniforge3/lib/python3.12/site-packages/tqdm/auto.py:21: TqdmWarning: IProgress not found. Please update jupyter and ipywidgets. See https://ipywidgets.readthedocs.io/en/stable/user_install.html\n",
      "  from .autonotebook import tqdm as notebook_tqdm\n"
     ]
    },
    {
     "name": "stdout",
     "output_type": "stream",
     "text": [
      "['La surveillance syndromique de la santé des plantes est essentielle.']\n"
     ]
    }
   ],
   "source": [
    "from transformers import MarianMTModel, MarianTokenizer\n",
    "\n",
    "model_name = \"Helsinki-NLP/opus-mt-en-fr\"\n",
    "tokenizer = MarianTokenizer.from_pretrained(model_name)\n",
    "model = MarianMTModel.from_pretrained(model_name)\n",
    "\n",
    "src_text = [\"Syndromic surveillance in plant health is essential.\"]\n",
    "inputs = tokenizer(src_text, return_tensors=\"pt\", padding=True)\n",
    "translated = model.generate(**inputs)\n",
    "print([tokenizer.decode(t, skip_special_tokens=True) for t in translated])\n"
   ]
  },
  {
   "cell_type": "markdown",
   "id": "fff9bda2",
   "metadata": {},
   "source": [
    "### Nous allons appliquer la Rétrotraduction pour former notre premier jeu de données augmenté \n",
    "Nous allons appliquer cela sur les données de texte brute ensuite on fera encore le nettoyage, nous allons appliquer l'augmentation uniquement pour les articles de type VS qui est sous représenté"
   ]
  },
  {
   "cell_type": "code",
   "execution_count": 23,
   "id": "b75e257e",
   "metadata": {},
   "outputs": [],
   "source": [
    "import os, nltk\n",
    "\n",
    "# Dossier local pour les données NLTK (avec droits d’écriture)\n",
    "NLTK_DIR = os.path.expanduser(\"~/nltk_data\")\n",
    "os.makedirs(NLTK_DIR, exist_ok=True)\n",
    "if NLTK_DIR not in nltk.data.path:\n",
    "    nltk.data.path.append(NLTK_DIR)\n",
    "\n",
    "# Paquets requis (NLTK 3.8+)\n",
    "for pkg in [\n",
    "    \"punkt\",                         # tokeniseur historique\n",
    "    \"punkt_tab\",                     # depuis NLTK 3.8\n",
    "    \"stopwords\",\n",
    "    \"wordnet\", \"omw-1.4\",\n",
    "    \"averaged_perceptron_tagger_eng\",\n",
    "    \"averaged_perceptron_tagger\",    # compat descente\n",
    "]:\n",
    "    try:\n",
    "        nltk.download(pkg, download_dir=NLTK_DIR, quiet=True)\n",
    "    except Exception as e:\n",
    "        print(f\"NLTK download failed for {pkg}: {e}\")\n"
   ]
  },
  {
   "cell_type": "markdown",
   "id": "c2af5880",
   "metadata": {},
   "source": [
    "#### Essayons ici de rattraper le nombre d'articles de NVS pour plus d'équilibre au travers de la rétro-traduction \n",
    "\n",
    "Etant donné le fait que nous vérifions également que le texte produit est unique, il peut arriver que le nombre d'articles produit pour la classe VS n'atteigne pas celui de la classe NVS et qu'on ne reste toujours qu'au double du nombre de VS que nous avons"
   ]
  },
  {
   "cell_type": "code",
   "execution_count": 16,
   "id": "9e13caa3",
   "metadata": {},
   "outputs": [],
   "source": [
    "## Fonction de nettoyage de texte\n",
    "import re\n",
    "from string import punctuation\n",
    "from nltk.corpus import stopwords\n",
    "from nltk.tokenize import word_tokenize\n",
    "from nltk.stem import WordNetLemmatizer \n",
    "\n",
    "stop_words = set(stopwords.words('english'))\n",
    "lemmatizer = WordNetLemmatizer()\n",
    "custom_stopwords = {'et', 'al'} # Les expressions que nous avons retrouvées en grande quantité lors de nos expérimentations et nous avons décidé de ne pas les conserver \n",
    "\n",
    "\n",
    "def nettoyer_texte(texte):\n",
    "    \"\"\"\n",
    "    Nettoie un texte brut :\n",
    "    2. Tokenisation\n",
    "    3. Nettoyage caractères spéciaux\n",
    "    4. Suppression stopwords, ponctuation, custom_stopwords\n",
    "    5. Lemmatisation\n",
    "    \"\"\"\n",
    "    \n",
    "    # Étape 2 : tokenisation\n",
    "    tokens = word_tokenize(texte)\n",
    "\n",
    "    # Étape 3-6 : nettoyage\n",
    "    tokens_nettoyes = []\n",
    "    for token in tokens:\n",
    "        token = token.lower()\n",
    "        token = re.sub(r'\\s+', '', token)\n",
    "        token = re.sub(r'[^a-zàâçéèêëîïôûùüÿñæœ]', '', token)\n",
    "\n",
    "        if (\n",
    "            token\n",
    "            and token not in stop_words\n",
    "            and token not in punctuation\n",
    "            and token not in custom_stopwords\n",
    "        ):\n",
    "            token = lemmatizer.lemmatize(token)\n",
    "            tokens_nettoyes.append(token)\n",
    "\n",
    "    return tokens_nettoyes"
   ]
  },
  {
   "cell_type": "code",
   "execution_count": 31,
   "id": "b3f76dbb",
   "metadata": {},
   "outputs": [
    {
     "name": "stdout",
     "output_type": "stream",
     "text": [
      "Device choisi : cuda\n",
      "Augmentations VS générées: 249\n",
      "Taille finale : (2739, 7)\n"
     ]
    }
   ],
   "source": [
    "# --- Back-translation simple: 1 VS -> 1 augmentation ---\n",
    "import os, pandas as pd, torch\n",
    "import nlpaug.augmenter.word as naw\n",
    "\n",
    "# Conseils perf / logs\n",
    "os.environ[\"TOKENIZERS_PARALLELISM\"] = \"false\"\n",
    "os.environ[\"TRANSFORMERS_NO_TORCHVISION\"] = \"1\"\n",
    "\n",
    "# ===== 0) Device & modèles (pivot allemand) =====\n",
    "device = \"cuda\" if torch.cuda.is_available() else \"cpu\"\n",
    "print(\"Device choisi :\", device)\n",
    "\n",
    "# Essyons d'utiliser l'allemand comme pivot\n",
    "from_model = \"facebook/wmt19-en-de\"  # EN -> DE\n",
    "to_model   = \"facebook/wmt19-de-en\"  # DE -> EN\n",
    "\n",
    "\n",
    "back_trans_aug = naw.BackTranslationAug(\n",
    "    from_model_name=from_model,\n",
    "    to_model_name=to_model,\n",
    "    device=device,\n",
    "    batch_size=32 if device == \"cuda\" else 8,\n",
    "    max_length=512 # on limite le nombre de tokens à 512\n",
    ")\n",
    "\n",
    "def coerce_to_str(x):\n",
    "    return \"\" if pd.isna(x) else str(x).strip()\n",
    "\n",
    "def safe_bt(text):\n",
    "    if not text:\n",
    "        return None\n",
    "    try:\n",
    "        out = back_trans_aug.augment(text, n=1)\n",
    "        return out[0].strip() if isinstance(out, list) and out else (out.strip() if isinstance(out, str) else None)\n",
    "    except Exception:\n",
    "        return None\n",
    "\n",
    "# ===== 1) Charger les données =====\n",
    "df = pd.read_csv(\"./data/data_final_phase2_private.csv\")\n",
    "df[\"text\"] = df[\"text\"].apply(coerce_to_str)\n",
    "\n",
    "# ===== 2) Filtrer VS et générer 1 augmentation par article =====\n",
    "is_vs = df[\"type_article\"].astype(str).str.upper().eq(\"VS\")\n",
    "df_vs = df.loc[is_vs].copy()\n",
    "\n",
    "aug_rows = []\n",
    "for _, row in df_vs.iterrows():\n",
    "    src = coerce_to_str(row[\"text\"])[:2000]  # éviter les très longs textes\n",
    "    bt  = safe_bt(src)\n",
    "    if bt and bt != src:\n",
    "        aug_rows.append({\n",
    "            \"text_src\": src,\n",
    "            \"text_final\": bt,\n",
    "            \"type_article\": row[\"type_article\"],\n",
    "            \"thematique\": row.get(\"thematique\", \"\"),\n",
    "            \"source\": \"bt\", \n",
    "            \"tokens_final\": nettoyer_texte(bt),\n",
    "            \"text_cleaned_final\": \" \".join(nettoyer_texte(bt))\n",
    "        })\n",
    "\n",
    "aug_df = pd.DataFrame(aug_rows)\n",
    "print(f\"Augmentations VS générées: {len(aug_df)}\")\n",
    "\n",
    "# ===== 3) Concaténer avec l’original (toutes classes inchangées) =====\n",
    "orig = df.copy()\n",
    "orig[\"text_src\"]   = orig[\"text\"]\n",
    "orig[\"text_final\"] = orig[\"text\"]\n",
    "orig[\"source\"]     = \"orig\"\n",
    "orig[\"tokens_final\"] = orig[\"text_final\"].apply(nettoyer_texte)\n",
    "orig[\"text_cleaned_final\"] = orig[\"tokens_final\"].apply(lambda tokens: \" \".join(tokens))\n",
    "\n",
    "cols = [\"text_final\",\"type_article\",\"thematique\",\"source\",\"text_src\", \"tokens_final\", \"text_cleaned_final\"]\n",
    "orig = orig.reindex(columns=cols, fill_value=\"\")\n",
    "aug_df = aug_df.reindex(columns=cols, fill_value=\"\")\n",
    "\n",
    "train_data = pd.concat([orig, aug_df], ignore_index=True)\n",
    "print(\"Taille finale :\", train_data.shape)\n"
   ]
  },
  {
   "cell_type": "code",
   "execution_count": 8,
   "id": "87d84efd",
   "metadata": {},
   "outputs": [
    {
     "name": "stdout",
     "output_type": "stream",
     "text": [
      "Torch: 2.5.1+cu121\n",
      "CUDA dispo: True\n",
      "GPU count: 1\n",
      "Nom du GPU: NVIDIA RTX 4500 Ada Generation\n"
     ]
    }
   ],
   "source": [
    "import torch\n",
    "print(\"Torch:\", torch.__version__)\n",
    "print(\"CUDA dispo:\", torch.cuda.is_available())\n",
    "print(\"GPU count:\", torch.cuda.device_count())\n",
    "if torch.cuda.is_available():\n",
    "    print(\"Nom du GPU:\", torch.cuda.get_device_name(0))\n"
   ]
  },
  {
   "cell_type": "code",
   "execution_count": 13,
   "id": "ee01150b",
   "metadata": {},
   "outputs": [
    {
     "data": {
      "text/plain": [
       "type_article\n",
       "NVS    2241\n",
       "VS      249\n",
       "Name: count, dtype: int64"
      ]
     },
     "execution_count": 13,
     "metadata": {},
     "output_type": "execute_result"
    }
   ],
   "source": [
    "df[\"type_article\"].value_counts()"
   ]
  },
  {
   "cell_type": "code",
   "execution_count": 32,
   "id": "2551be81",
   "metadata": {},
   "outputs": [
    {
     "data": {
      "text/html": [
       "<div>\n",
       "<style scoped>\n",
       "    .dataframe tbody tr th:only-of-type {\n",
       "        vertical-align: middle;\n",
       "    }\n",
       "\n",
       "    .dataframe tbody tr th {\n",
       "        vertical-align: top;\n",
       "    }\n",
       "\n",
       "    .dataframe thead th {\n",
       "        text-align: right;\n",
       "    }\n",
       "</style>\n",
       "<table border=\"1\" class=\"dataframe\">\n",
       "  <thead>\n",
       "    <tr style=\"text-align: right;\">\n",
       "      <th></th>\n",
       "      <th>text_final</th>\n",
       "      <th>type_article</th>\n",
       "      <th>thematique</th>\n",
       "      <th>source</th>\n",
       "      <th>text_src</th>\n",
       "      <th>tokens_final</th>\n",
       "      <th>text_cleaned_final</th>\n",
       "    </tr>\n",
       "  </thead>\n",
       "  <tbody>\n",
       "    <tr>\n",
       "      <th>0</th>\n",
       "      <td>Microbial Community Composition Associated wit...</td>\n",
       "      <td>VS</td>\n",
       "      <td>SV</td>\n",
       "      <td>orig</td>\n",
       "      <td>Microbial Community Composition Associated wit...</td>\n",
       "      <td>[microbial, community, composition, associated...</td>\n",
       "      <td>microbial community composition associated pot...</td>\n",
       "    </tr>\n",
       "    <tr>\n",
       "      <th>1</th>\n",
       "      <td>Plant Pathogenic and Endophytic Colletotrichum...</td>\n",
       "      <td>VS</td>\n",
       "      <td>SV</td>\n",
       "      <td>orig</td>\n",
       "      <td>Plant Pathogenic and Endophytic Colletotrichum...</td>\n",
       "      <td>[plant, pathogenic, endophytic, colletotrichum...</td>\n",
       "      <td>plant pathogenic endophytic colletotrichum fru...</td>\n",
       "    </tr>\n",
       "    <tr>\n",
       "      <th>2</th>\n",
       "      <td>Lethal Bronzing: What you should know about th...</td>\n",
       "      <td>VS</td>\n",
       "      <td>SV</td>\n",
       "      <td>orig</td>\n",
       "      <td>Lethal Bronzing: What you should know about th...</td>\n",
       "      <td>[lethal, bronzing, know, disease, turn, palm, ...</td>\n",
       "      <td>lethal bronzing know disease turn palm tree br...</td>\n",
       "    </tr>\n",
       "    <tr>\n",
       "      <th>3</th>\n",
       "      <td>Leaffooted Bug Damage in Almond Orchards Leaff...</td>\n",
       "      <td>VS</td>\n",
       "      <td>SV</td>\n",
       "      <td>orig</td>\n",
       "      <td>Leaffooted Bug Damage in Almond Orchards Leaff...</td>\n",
       "      <td>[leaffooted, bug, damage, almond, orchard, lea...</td>\n",
       "      <td>leaffooted bug damage almond orchard leaffoote...</td>\n",
       "    </tr>\n",
       "    <tr>\n",
       "      <th>4</th>\n",
       "      <td>Kebbi govt battles mysterious disease affectin...</td>\n",
       "      <td>VS</td>\n",
       "      <td>SV</td>\n",
       "      <td>orig</td>\n",
       "      <td>Kebbi govt battles mysterious disease affectin...</td>\n",
       "      <td>[kebbi, govt, battle, mysterious, disease, aff...</td>\n",
       "      <td>kebbi govt battle mysterious disease affecting...</td>\n",
       "    </tr>\n",
       "    <tr>\n",
       "      <th>...</th>\n",
       "      <td>...</td>\n",
       "      <td>...</td>\n",
       "      <td>...</td>\n",
       "      <td>...</td>\n",
       "      <td>...</td>\n",
       "      <td>...</td>\n",
       "      <td>...</td>\n",
       "    </tr>\n",
       "    <tr>\n",
       "      <th>2734</th>\n",
       "      <td>Mystery Seed Packages Appearing Once Again in ...</td>\n",
       "      <td>VS</td>\n",
       "      <td>SV</td>\n",
       "      <td>bt</td>\n",
       "      <td>Mystery Seed Packages Appearing Once Again in ...</td>\n",
       "      <td>[mystery, seed, package, appearing, alabama, m...</td>\n",
       "      <td>mystery seed package appearing alabama mystery...</td>\n",
       "    </tr>\n",
       "    <tr>\n",
       "      <th>2735</th>\n",
       "      <td>ACES: Mystery Seed Packages Reappearing in Ala...</td>\n",
       "      <td>VS</td>\n",
       "      <td>SV</td>\n",
       "      <td>bt</td>\n",
       "      <td>ACES: Mystery seed packages appearing once aga...</td>\n",
       "      <td>[ace, mystery, seed, package, reappearing, ala...</td>\n",
       "      <td>ace mystery seed package reappearing alabama a...</td>\n",
       "    </tr>\n",
       "    <tr>\n",
       "      <th>2736</th>\n",
       "      <td>Farmers blame unknown pests for the shortage o...</td>\n",
       "      <td>VS</td>\n",
       "      <td>SV</td>\n",
       "      <td>bt</td>\n",
       "      <td>Farmers Blame Unknown Pest As Pepper Hits ₦150...</td>\n",
       "      <td>[farmer, blame, unknown, pest, shortage, peppe...</td>\n",
       "      <td>farmer blame unknown pest shortage pepper coun...</td>\n",
       "    </tr>\n",
       "    <tr>\n",
       "      <th>2737</th>\n",
       "      <td>Sharp drop in yield due to a mysterious fungal...</td>\n",
       "      <td>VS</td>\n",
       "      <td>SV</td>\n",
       "      <td>bt</td>\n",
       "      <td>Sharp decline in yield as mysterious fungal in...</td>\n",
       "      <td>[sharp, drop, yield, due, mysterious, fungal, ...</td>\n",
       "      <td>sharp drop yield due mysterious fungal infecti...</td>\n",
       "    </tr>\n",
       "    <tr>\n",
       "      <th>2738</th>\n",
       "      <td>Warm June has led physiological leaf spots to ...</td>\n",
       "      <td>VS</td>\n",
       "      <td>SV</td>\n",
       "      <td>bt</td>\n",
       "      <td>Physiological leaf spot suspected in southern ...</td>\n",
       "      <td>[warm, june, led, physiological, leaf, spot, s...</td>\n",
       "      <td>warm june led physiological leaf spot suspecte...</td>\n",
       "    </tr>\n",
       "  </tbody>\n",
       "</table>\n",
       "<p>2739 rows × 7 columns</p>\n",
       "</div>"
      ],
      "text/plain": [
       "                                             text_final type_article  \\\n",
       "0     Microbial Community Composition Associated wit...           VS   \n",
       "1     Plant Pathogenic and Endophytic Colletotrichum...           VS   \n",
       "2     Lethal Bronzing: What you should know about th...           VS   \n",
       "3     Leaffooted Bug Damage in Almond Orchards Leaff...           VS   \n",
       "4     Kebbi govt battles mysterious disease affectin...           VS   \n",
       "...                                                 ...          ...   \n",
       "2734  Mystery Seed Packages Appearing Once Again in ...           VS   \n",
       "2735  ACES: Mystery Seed Packages Reappearing in Ala...           VS   \n",
       "2736  Farmers blame unknown pests for the shortage o...           VS   \n",
       "2737  Sharp drop in yield due to a mysterious fungal...           VS   \n",
       "2738  Warm June has led physiological leaf spots to ...           VS   \n",
       "\n",
       "     thematique source                                           text_src  \\\n",
       "0            SV   orig  Microbial Community Composition Associated wit...   \n",
       "1            SV   orig  Plant Pathogenic and Endophytic Colletotrichum...   \n",
       "2            SV   orig  Lethal Bronzing: What you should know about th...   \n",
       "3            SV   orig  Leaffooted Bug Damage in Almond Orchards Leaff...   \n",
       "4            SV   orig  Kebbi govt battles mysterious disease affectin...   \n",
       "...         ...    ...                                                ...   \n",
       "2734         SV     bt  Mystery Seed Packages Appearing Once Again in ...   \n",
       "2735         SV     bt  ACES: Mystery seed packages appearing once aga...   \n",
       "2736         SV     bt  Farmers Blame Unknown Pest As Pepper Hits ₦150...   \n",
       "2737         SV     bt  Sharp decline in yield as mysterious fungal in...   \n",
       "2738         SV     bt  Physiological leaf spot suspected in southern ...   \n",
       "\n",
       "                                           tokens_final  \\\n",
       "0     [microbial, community, composition, associated...   \n",
       "1     [plant, pathogenic, endophytic, colletotrichum...   \n",
       "2     [lethal, bronzing, know, disease, turn, palm, ...   \n",
       "3     [leaffooted, bug, damage, almond, orchard, lea...   \n",
       "4     [kebbi, govt, battle, mysterious, disease, aff...   \n",
       "...                                                 ...   \n",
       "2734  [mystery, seed, package, appearing, alabama, m...   \n",
       "2735  [ace, mystery, seed, package, reappearing, ala...   \n",
       "2736  [farmer, blame, unknown, pest, shortage, peppe...   \n",
       "2737  [sharp, drop, yield, due, mysterious, fungal, ...   \n",
       "2738  [warm, june, led, physiological, leaf, spot, s...   \n",
       "\n",
       "                                     text_cleaned_final  \n",
       "0     microbial community composition associated pot...  \n",
       "1     plant pathogenic endophytic colletotrichum fru...  \n",
       "2     lethal bronzing know disease turn palm tree br...  \n",
       "3     leaffooted bug damage almond orchard leaffoote...  \n",
       "4     kebbi govt battle mysterious disease affecting...  \n",
       "...                                                 ...  \n",
       "2734  mystery seed package appearing alabama mystery...  \n",
       "2735  ace mystery seed package reappearing alabama a...  \n",
       "2736  farmer blame unknown pest shortage pepper coun...  \n",
       "2737  sharp drop yield due mysterious fungal infecti...  \n",
       "2738  warm june led physiological leaf spot suspecte...  \n",
       "\n",
       "[2739 rows x 7 columns]"
      ]
     },
     "execution_count": 32,
     "metadata": {},
     "output_type": "execute_result"
    }
   ],
   "source": [
    "train_data"
   ]
  },
  {
   "cell_type": "code",
   "execution_count": 3,
   "id": "a58f4b43",
   "metadata": {},
   "outputs": [
    {
     "data": {
      "text/plain": [
       "False"
      ]
     },
     "execution_count": 3,
     "metadata": {},
     "output_type": "execute_result"
    }
   ],
   "source": [
    "train_data[\"text_final\"].iloc[2735] == train_data[\"text_src\"].iloc[2735]"
   ]
  },
  {
   "cell_type": "code",
   "execution_count": 4,
   "id": "7966f22f",
   "metadata": {},
   "outputs": [
    {
     "data": {
      "text/plain": [
       "type_article\n",
       "NVS    2241\n",
       "VS      496\n",
       "Name: count, dtype: int64"
      ]
     },
     "execution_count": 4,
     "metadata": {},
     "output_type": "execute_result"
    }
   ],
   "source": [
    "train_data[\"type_article\"].value_counts()"
   ]
  },
  {
   "cell_type": "code",
   "execution_count": 5,
   "id": "5dd94dd6",
   "metadata": {},
   "outputs": [
    {
     "data": {
      "text/plain": [
       "type_article\n",
       "NVS    2241\n",
       "VS      249\n",
       "Name: count, dtype: int64"
      ]
     },
     "execution_count": 5,
     "metadata": {},
     "output_type": "execute_result"
    }
   ],
   "source": [
    "df[\"type_article\"].value_counts()"
   ]
  },
  {
   "cell_type": "markdown",
   "id": "c5284e3e",
   "metadata": {},
   "source": [
    "#### Les textes augmentées par la rétro traduction ont une source bt "
   ]
  },
  {
   "cell_type": "code",
   "execution_count": 33,
   "id": "f8a46c9a",
   "metadata": {},
   "outputs": [],
   "source": [
    "## Sauvegardons les données augmentées dans un fichier csv \n",
    "\n",
    "train_data.to_csv(\"./data/data_augmented_back_translation_en_de.csv\", index= False)"
   ]
  },
  {
   "cell_type": "code",
   "execution_count": 30,
   "id": "a88db0db",
   "metadata": {},
   "outputs": [],
   "source": [
    "# Pour le pivot français\n",
    "train_data.to_csv(\"./data/data_augmented_back_translation_en_fr.csv\", index= False)"
   ]
  },
  {
   "cell_type": "markdown",
   "id": "c982ca27",
   "metadata": {},
   "source": [
    "###  Nous allons reprendre la classification avec le fine-tuning de SBERT que nous avons fait à la phase 3 \n",
    "\n",
    "voir le fichier notebook *fine_tuning_experiments_augmentated.ipynb*"
   ]
  },
  {
   "cell_type": "code",
   "execution_count": 2,
   "id": "c4058528",
   "metadata": {},
   "outputs": [],
   "source": [
    "import pandas as pd \n",
    "data = pd.read_csv(\"./data/data_augmented_back_translation.csv\")"
   ]
  },
  {
   "cell_type": "code",
   "execution_count": 3,
   "id": "e07c46c7",
   "metadata": {},
   "outputs": [
    {
     "data": {
      "text/html": [
       "<div>\n",
       "<style scoped>\n",
       "    .dataframe tbody tr th:only-of-type {\n",
       "        vertical-align: middle;\n",
       "    }\n",
       "\n",
       "    .dataframe tbody tr th {\n",
       "        vertical-align: top;\n",
       "    }\n",
       "\n",
       "    .dataframe thead th {\n",
       "        text-align: right;\n",
       "    }\n",
       "</style>\n",
       "<table border=\"1\" class=\"dataframe\">\n",
       "  <thead>\n",
       "    <tr style=\"text-align: right;\">\n",
       "      <th></th>\n",
       "      <th>text_final</th>\n",
       "      <th>text_clean</th>\n",
       "      <th>token_clean</th>\n",
       "      <th>source</th>\n",
       "      <th>type_article</th>\n",
       "      <th>thematique</th>\n",
       "      <th>text_src</th>\n",
       "    </tr>\n",
       "  </thead>\n",
       "  <tbody>\n",
       "    <tr>\n",
       "      <th>0</th>\n",
       "      <td>Microbial Community Composition Associated wit...</td>\n",
       "      <td>microbial community composition associated pot...</td>\n",
       "      <td>['microbial', 'community', 'composition', 'ass...</td>\n",
       "      <td>orig</td>\n",
       "      <td>VS</td>\n",
       "      <td>SV</td>\n",
       "      <td>Microbial Community Composition Associated wit...</td>\n",
       "    </tr>\n",
       "    <tr>\n",
       "      <th>1</th>\n",
       "      <td>Plant Pathogenic and Endophytic Colletotrichum...</td>\n",
       "      <td>plant pathogenic endophytic colletotrichum fru...</td>\n",
       "      <td>['plant', 'pathogenic', 'endophytic', 'colleto...</td>\n",
       "      <td>orig</td>\n",
       "      <td>VS</td>\n",
       "      <td>SV</td>\n",
       "      <td>Plant Pathogenic and Endophytic Colletotrichum...</td>\n",
       "    </tr>\n",
       "    <tr>\n",
       "      <th>2</th>\n",
       "      <td>Lethal Bronzing: What you should know about th...</td>\n",
       "      <td>lethal bronzing know disease turn palm tree br...</td>\n",
       "      <td>['lethal', 'bronzing', 'know', 'disease', 'tur...</td>\n",
       "      <td>orig</td>\n",
       "      <td>VS</td>\n",
       "      <td>SV</td>\n",
       "      <td>Lethal Bronzing: What you should know about th...</td>\n",
       "    </tr>\n",
       "    <tr>\n",
       "      <th>3</th>\n",
       "      <td>Leaffooted Bug Damage in Almond Orchards Leaff...</td>\n",
       "      <td>leaffooted bug damage almond orchard leaffoote...</td>\n",
       "      <td>['leaffooted', 'bug', 'damage', 'almond', 'orc...</td>\n",
       "      <td>orig</td>\n",
       "      <td>VS</td>\n",
       "      <td>SV</td>\n",
       "      <td>Leaffooted Bug Damage in Almond Orchards Leaff...</td>\n",
       "    </tr>\n",
       "    <tr>\n",
       "      <th>4</th>\n",
       "      <td>Kebbi govt battles mysterious disease affectin...</td>\n",
       "      <td>kebbi govt battle mysterious disease affecting...</td>\n",
       "      <td>['kebbi', 'govt', 'battle', 'mysterious', 'dis...</td>\n",
       "      <td>orig</td>\n",
       "      <td>VS</td>\n",
       "      <td>SV</td>\n",
       "      <td>Kebbi govt battles mysterious disease affectin...</td>\n",
       "    </tr>\n",
       "    <tr>\n",
       "      <th>...</th>\n",
       "      <td>...</td>\n",
       "      <td>...</td>\n",
       "      <td>...</td>\n",
       "      <td>...</td>\n",
       "      <td>...</td>\n",
       "      <td>...</td>\n",
       "      <td>...</td>\n",
       "    </tr>\n",
       "    <tr>\n",
       "      <th>2732</th>\n",
       "      <td>Mystery Seed Packages Appearing Once Again in ...</td>\n",
       "      <td>mystery seed package appearing alabama mystery...</td>\n",
       "      <td>['mystery', 'seed', 'package', 'appearing', 'a...</td>\n",
       "      <td>bt</td>\n",
       "      <td>VS</td>\n",
       "      <td>SV</td>\n",
       "      <td>Mystery Seed Packages Appearing Once Again in ...</td>\n",
       "    </tr>\n",
       "    <tr>\n",
       "      <th>2733</th>\n",
       "      <td>ACES: Mystery seed packages appeared again in ...</td>\n",
       "      <td>ace mystery seed package appeared alabama ace ...</td>\n",
       "      <td>['ace', 'mystery', 'seed', 'package', 'appeare...</td>\n",
       "      <td>bt</td>\n",
       "      <td>VS</td>\n",
       "      <td>SV</td>\n",
       "      <td>ACES: Mystery seed packages appearing once aga...</td>\n",
       "    </tr>\n",
       "    <tr>\n",
       "      <th>2734</th>\n",
       "      <td>Farmers blame the plague: 150,000 per bag Farm...</td>\n",
       "      <td>farmer blame plague per bag farmer blame plagu...</td>\n",
       "      <td>['farmer', 'blame', 'plague', 'per', 'bag', 'f...</td>\n",
       "      <td>bt</td>\n",
       "      <td>VS</td>\n",
       "      <td>SV</td>\n",
       "      <td>Farmers Blame Unknown Pest As Pepper Hits ₦150...</td>\n",
       "    </tr>\n",
       "    <tr>\n",
       "      <th>2735</th>\n",
       "      <td>Sharp drop in yield due to mysterious fungal i...</td>\n",
       "      <td>sharp drop yield due mysterious fungal infecti...</td>\n",
       "      <td>['sharp', 'drop', 'yield', 'due', 'mysterious'...</td>\n",
       "      <td>bt</td>\n",
       "      <td>VS</td>\n",
       "      <td>SV</td>\n",
       "      <td>Sharp decline in yield as mysterious fungal in...</td>\n",
       "    </tr>\n",
       "    <tr>\n",
       "      <th>2736</th>\n",
       "      <td>According to Prairie Crop Disease Disease Moni...</td>\n",
       "      <td>according prairie crop disease disease monitor...</td>\n",
       "      <td>['according', 'prairie', 'crop', 'disease', 'd...</td>\n",
       "      <td>bt</td>\n",
       "      <td>VS</td>\n",
       "      <td>SV</td>\n",
       "      <td>Physiological leaf spot suspected in southern ...</td>\n",
       "    </tr>\n",
       "  </tbody>\n",
       "</table>\n",
       "<p>2737 rows × 7 columns</p>\n",
       "</div>"
      ],
      "text/plain": [
       "                                             text_final  \\\n",
       "0     Microbial Community Composition Associated wit...   \n",
       "1     Plant Pathogenic and Endophytic Colletotrichum...   \n",
       "2     Lethal Bronzing: What you should know about th...   \n",
       "3     Leaffooted Bug Damage in Almond Orchards Leaff...   \n",
       "4     Kebbi govt battles mysterious disease affectin...   \n",
       "...                                                 ...   \n",
       "2732  Mystery Seed Packages Appearing Once Again in ...   \n",
       "2733  ACES: Mystery seed packages appeared again in ...   \n",
       "2734  Farmers blame the plague: 150,000 per bag Farm...   \n",
       "2735  Sharp drop in yield due to mysterious fungal i...   \n",
       "2736  According to Prairie Crop Disease Disease Moni...   \n",
       "\n",
       "                                             text_clean  \\\n",
       "0     microbial community composition associated pot...   \n",
       "1     plant pathogenic endophytic colletotrichum fru...   \n",
       "2     lethal bronzing know disease turn palm tree br...   \n",
       "3     leaffooted bug damage almond orchard leaffoote...   \n",
       "4     kebbi govt battle mysterious disease affecting...   \n",
       "...                                                 ...   \n",
       "2732  mystery seed package appearing alabama mystery...   \n",
       "2733  ace mystery seed package appeared alabama ace ...   \n",
       "2734  farmer blame plague per bag farmer blame plagu...   \n",
       "2735  sharp drop yield due mysterious fungal infecti...   \n",
       "2736  according prairie crop disease disease monitor...   \n",
       "\n",
       "                                            token_clean source type_article  \\\n",
       "0     ['microbial', 'community', 'composition', 'ass...   orig           VS   \n",
       "1     ['plant', 'pathogenic', 'endophytic', 'colleto...   orig           VS   \n",
       "2     ['lethal', 'bronzing', 'know', 'disease', 'tur...   orig           VS   \n",
       "3     ['leaffooted', 'bug', 'damage', 'almond', 'orc...   orig           VS   \n",
       "4     ['kebbi', 'govt', 'battle', 'mysterious', 'dis...   orig           VS   \n",
       "...                                                 ...    ...          ...   \n",
       "2732  ['mystery', 'seed', 'package', 'appearing', 'a...     bt           VS   \n",
       "2733  ['ace', 'mystery', 'seed', 'package', 'appeare...     bt           VS   \n",
       "2734  ['farmer', 'blame', 'plague', 'per', 'bag', 'f...     bt           VS   \n",
       "2735  ['sharp', 'drop', 'yield', 'due', 'mysterious'...     bt           VS   \n",
       "2736  ['according', 'prairie', 'crop', 'disease', 'd...     bt           VS   \n",
       "\n",
       "     thematique                                           text_src  \n",
       "0            SV  Microbial Community Composition Associated wit...  \n",
       "1            SV  Plant Pathogenic and Endophytic Colletotrichum...  \n",
       "2            SV  Lethal Bronzing: What you should know about th...  \n",
       "3            SV  Leaffooted Bug Damage in Almond Orchards Leaff...  \n",
       "4            SV  Kebbi govt battles mysterious disease affectin...  \n",
       "...         ...                                                ...  \n",
       "2732         SV  Mystery Seed Packages Appearing Once Again in ...  \n",
       "2733         SV  ACES: Mystery seed packages appearing once aga...  \n",
       "2734         SV  Farmers Blame Unknown Pest As Pepper Hits ₦150...  \n",
       "2735         SV  Sharp decline in yield as mysterious fungal in...  \n",
       "2736         SV  Physiological leaf spot suspected in southern ...  \n",
       "\n",
       "[2737 rows x 7 columns]"
      ]
     },
     "execution_count": 3,
     "metadata": {},
     "output_type": "execute_result"
    }
   ],
   "source": [
    "data"
   ]
  },
  {
   "cell_type": "code",
   "execution_count": 4,
   "id": "5936c42d",
   "metadata": {},
   "outputs": [
    {
     "data": {
      "text/plain": [
       "type_article\n",
       "NVS    2241\n",
       "VS      496\n",
       "Name: count, dtype: int64"
      ]
     },
     "execution_count": 4,
     "metadata": {},
     "output_type": "execute_result"
    }
   ],
   "source": [
    "data[\"type_article\"].value_counts()"
   ]
  }
 ],
 "metadata": {
  "kernelspec": {
   "display_name": "base",
   "language": "python",
   "name": "python3"
  },
  "language_info": {
   "codemirror_mode": {
    "name": "ipython",
    "version": 3
   },
   "file_extension": ".py",
   "mimetype": "text/x-python",
   "name": "python",
   "nbconvert_exporter": "python",
   "pygments_lexer": "ipython3",
   "version": "3.12.8"
  }
 },
 "nbformat": 4,
 "nbformat_minor": 5
}
