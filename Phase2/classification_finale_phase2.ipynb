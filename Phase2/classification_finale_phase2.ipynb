{
 "cells": [
  {
   "cell_type": "markdown",
   "id": "eda3bd76",
   "metadata": {},
   "source": [
    "### Nous présentons ici la solution finale de classification pour la deuxième phase du stage après plusieurs expérimentations \n",
    "\n",
    "### 1. Les données\n",
    "\n",
    "Nous avons formé les données en utilisant les sources de padi-web (VS en SV), ESV, ESA ainsi que les articles nettoyés de la phase 1 du stage (ceux dans lequels on avait supprimé les noms de maladie, les liens hypertextes, détecté la langue)\n",
    "\n",
    "### 2. Prétaitement \n",
    "\n",
    "Sur ces données collectées et rassemblées dans le fichier *data_classification_2.csv*, nous avons appliqué un nettoyage des textes pour former la colonne *text_clean*, que nous utilisons pour la classification. Nous allons appliqué la suppression des stopword, la lemmatisation, la suppression des caractères incompréhensibles en anglais, la mise en minuscule \n",
    "\n",
    "### 3. Classification \n",
    "\n",
    "Nous avons testé plusieurs approches à l'instar de: \n",
    "- Vectorisation avec TF-IDF et puis classification avec Naive Bayes \n",
    "- Vectorisation avec TF-IDF et puis classification avec la Regression Logistique \n",
    "- Vectorisation avec SBERT et puis classification avec la Regression Logistique\n",
    "- Vectorisation avec SBERT et puis classification avec MLP de pytorch (ainsi que MLPClassifier de scikit-learn)\n",
    "\n"
   ]
  }
 ],
 "metadata": {
  "language_info": {
   "name": "python"
  }
 },
 "nbformat": 4,
 "nbformat_minor": 5
}
