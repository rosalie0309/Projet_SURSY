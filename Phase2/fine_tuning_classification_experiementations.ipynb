{
 "cells": [
  {
   "cell_type": "markdown",
   "id": "eed89054",
   "metadata": {},
   "source": [
    "### Nous allons ici faire du Fine-tuning de quelques modèles avec les données du fichier data_classification_2.csv \n",
    "\n",
    "SBERT, RoBERTa"
   ]
  },
  {
   "cell_type": "code",
   "execution_count": 1,
   "id": "674e53ac",
   "metadata": {},
   "outputs": [
    {
     "data": {
      "text/html": [
       "<div>\n",
       "<style scoped>\n",
       "    .dataframe tbody tr th:only-of-type {\n",
       "        vertical-align: middle;\n",
       "    }\n",
       "\n",
       "    .dataframe tbody tr th {\n",
       "        vertical-align: top;\n",
       "    }\n",
       "\n",
       "    .dataframe thead th {\n",
       "        text-align: right;\n",
       "    }\n",
       "</style>\n",
       "<table border=\"1\" class=\"dataframe\">\n",
       "  <thead>\n",
       "    <tr style=\"text-align: right;\">\n",
       "      <th></th>\n",
       "      <th>text</th>\n",
       "      <th>tokens_clean</th>\n",
       "      <th>text_clean</th>\n",
       "      <th>type_article</th>\n",
       "      <th>thematique</th>\n",
       "    </tr>\n",
       "  </thead>\n",
       "  <tbody>\n",
       "    <tr>\n",
       "      <th>0</th>\n",
       "      <td>Microbial Community Composition Associated wit...</td>\n",
       "      <td>['microbial', 'community', 'composition', 'ass...</td>\n",
       "      <td>microbial community composition associated pot...</td>\n",
       "      <td>VS</td>\n",
       "      <td>SV</td>\n",
       "    </tr>\n",
       "    <tr>\n",
       "      <th>1</th>\n",
       "      <td>Plant Pathogenic and Endophytic Colletotrichum...</td>\n",
       "      <td>['plant', 'pathogenic', 'endophytic', 'colleto...</td>\n",
       "      <td>plant pathogenic endophytic colletotrichum fru...</td>\n",
       "      <td>VS</td>\n",
       "      <td>SV</td>\n",
       "    </tr>\n",
       "    <tr>\n",
       "      <th>2</th>\n",
       "      <td>Lethal Bronzing: What you should know about th...</td>\n",
       "      <td>['lethal', 'bronzing', 'know', 'disease', 'tur...</td>\n",
       "      <td>lethal bronzing know disease turn palm tree br...</td>\n",
       "      <td>VS</td>\n",
       "      <td>SV</td>\n",
       "    </tr>\n",
       "    <tr>\n",
       "      <th>3</th>\n",
       "      <td>Leaffooted Bug Damage in Almond Orchards Leaff...</td>\n",
       "      <td>['leaffooted', 'bug', 'damage', 'almond', 'orc...</td>\n",
       "      <td>leaffooted bug damage almond orchard leaffoote...</td>\n",
       "      <td>VS</td>\n",
       "      <td>SV</td>\n",
       "    </tr>\n",
       "    <tr>\n",
       "      <th>4</th>\n",
       "      <td>Kebbi govt battles mysterious disease affectin...</td>\n",
       "      <td>['kebbi', 'govt', 'battle', 'mysterious', 'dis...</td>\n",
       "      <td>kebbi govt battle mysterious disease affecting...</td>\n",
       "      <td>VS</td>\n",
       "      <td>SV</td>\n",
       "    </tr>\n",
       "  </tbody>\n",
       "</table>\n",
       "</div>"
      ],
      "text/plain": [
       "                                                text  \\\n",
       "0  Microbial Community Composition Associated wit...   \n",
       "1  Plant Pathogenic and Endophytic Colletotrichum...   \n",
       "2  Lethal Bronzing: What you should know about th...   \n",
       "3  Leaffooted Bug Damage in Almond Orchards Leaff...   \n",
       "4  Kebbi govt battles mysterious disease affectin...   \n",
       "\n",
       "                                        tokens_clean  \\\n",
       "0  ['microbial', 'community', 'composition', 'ass...   \n",
       "1  ['plant', 'pathogenic', 'endophytic', 'colleto...   \n",
       "2  ['lethal', 'bronzing', 'know', 'disease', 'tur...   \n",
       "3  ['leaffooted', 'bug', 'damage', 'almond', 'orc...   \n",
       "4  ['kebbi', 'govt', 'battle', 'mysterious', 'dis...   \n",
       "\n",
       "                                          text_clean type_article thematique  \n",
       "0  microbial community composition associated pot...           VS         SV  \n",
       "1  plant pathogenic endophytic colletotrichum fru...           VS         SV  \n",
       "2  lethal bronzing know disease turn palm tree br...           VS         SV  \n",
       "3  leaffooted bug damage almond orchard leaffoote...           VS         SV  \n",
       "4  kebbi govt battle mysterious disease affecting...           VS         SV  "
      ]
     },
     "execution_count": 1,
     "metadata": {},
     "output_type": "execute_result"
    }
   ],
   "source": [
    "import pandas as pd \n",
    "\n",
    "data = pd.read_csv(\"data/data_classification_2.csv\", keep_default_na=False)\n",
    "\n",
    "data.head()"
   ]
  },
  {
   "cell_type": "markdown",
   "id": "310fcfad",
   "metadata": {},
   "source": [
    "#### Fine-tuning de RoBERTa avec la classe Trainer de Hugging Face"
   ]
  },
  {
   "cell_type": "code",
   "execution_count": null,
   "id": "d1ca140f",
   "metadata": {},
   "outputs": [
    {
     "name": "stdout",
     "output_type": "stream",
     "text": [
      "Classes: ['NVS', 'VS']\n"
     ]
    },
    {
     "name": "stderr",
     "output_type": "stream",
     "text": [
      "Some weights of RobertaForSequenceClassification were not initialized from the model checkpoint at roberta-base and are newly initialized: ['classifier.dense.bias', 'classifier.dense.weight', 'classifier.out_proj.bias', 'classifier.out_proj.weight']\n",
      "You should probably TRAIN this model on a down-stream task to be able to use it for predictions and inference.\n",
      "d:\\Rosalie\\Classification_2\\.venv\\lib\\site-packages\\transformers\\training_args.py:1474: FutureWarning: `evaluation_strategy` is deprecated and will be removed in version 4.46 of 🤗 Transformers. Use `eval_strategy` instead\n",
      "  warnings.warn(\n"
     ]
    },
    {
     "data": {
      "application/vnd.jupyter.widget-view+json": {
       "model_id": "ddf986180a89402c8db450f775db1706",
       "version_major": 2,
       "version_minor": 0
      },
      "text/plain": [
       "  0%|          | 0/5450 [00:00<?, ?it/s]"
      ]
     },
     "metadata": {},
     "output_type": "display_data"
    },
    {
     "data": {
      "application/vnd.jupyter.widget-view+json": {
       "model_id": "0f1b0cee447c4a87abe0b0b461e7b373",
       "version_major": 2,
       "version_minor": 0
      },
      "text/plain": [
       "  0%|          | 0/9 [00:00<?, ?it/s]"
      ]
     },
     "metadata": {},
     "output_type": "display_data"
    },
    {
     "name": "stdout",
     "output_type": "stream",
     "text": [
      "{'eval_loss': 0.10593686252832413, 'eval_accuracy': 0.9731800766283525, 'eval_f1_macro': 0.9252454991816694, 'eval_precision_macro': 0.9252454991816694, 'eval_recall_macro': 0.9252454991816694, 'eval_runtime': 88.2938, 'eval_samples_per_second': 5.912, 'eval_steps_per_second': 0.102, 'epoch': 1.0}\n",
      "{'eval_loss': 0.10593686252832413, 'eval_accuracy': 0.9731800766283525, 'eval_f1_macro': 0.9252454991816694, 'eval_precision_macro': 0.9252454991816694, 'eval_recall_macro': 0.9252454991816694, 'eval_runtime': 88.2938, 'eval_samples_per_second': 5.912, 'eval_steps_per_second': 0.102, 'epoch': 1.0}\n"
     ]
    },
    {
     "data": {
      "application/vnd.jupyter.widget-view+json": {
       "model_id": "f9a3e348fea642d3b8a50bdef22fa59d",
       "version_major": 2,
       "version_minor": 0
      },
      "text/plain": [
       "  0%|          | 0/28 [00:00<?, ?it/s]"
      ]
     },
     "metadata": {},
     "output_type": "display_data"
    },
    {
     "name": "stdout",
     "output_type": "stream",
     "text": [
      "{'train_loss': 0.1036166250705719, 'train_accuracy': 0.9747561675272519, 'train_f1_macro': 0.927152041095474, 'train_precision_macro': 0.943965176879343, 'train_recall_macro': 0.9118865519439133, 'train_runtime': 316.4333, 'train_samples_per_second': 5.508, 'train_steps_per_second': 0.088, 'epoch': 1.0}\n",
      "{'train_loss': 0.1036166250705719, 'train_accuracy': 0.9747561675272519, 'train_f1_macro': 0.927152041095474, 'train_precision_macro': 0.943965176879343, 'train_recall_macro': 0.9118865519439133, 'train_runtime': 316.4333, 'train_samples_per_second': 5.508, 'train_steps_per_second': 0.088, 'epoch': 1.0}\n"
     ]
    },
    {
     "data": {
      "application/vnd.jupyter.widget-view+json": {
       "model_id": "2214d2b1a4f74545909d348a996c1d00",
       "version_major": 2,
       "version_minor": 0
      },
      "text/plain": [
       "  0%|          | 0/9 [00:00<?, ?it/s]"
      ]
     },
     "metadata": {},
     "output_type": "display_data"
    },
    {
     "name": "stdout",
     "output_type": "stream",
     "text": [
      "{'eval_loss': 0.11257471889257431, 'eval_accuracy': 0.9731800766283525, 'eval_f1_macro': 0.9321120689655172, 'eval_precision_macro': 0.8973457969432315, 'eval_recall_macro': 0.9765548281505728, 'eval_runtime': 99.525, 'eval_samples_per_second': 5.245, 'eval_steps_per_second': 0.09, 'epoch': 2.0}\n",
      "{'eval_loss': 0.11257471889257431, 'eval_accuracy': 0.9731800766283525, 'eval_f1_macro': 0.9321120689655172, 'eval_precision_macro': 0.8973457969432315, 'eval_recall_macro': 0.9765548281505728, 'eval_runtime': 99.525, 'eval_samples_per_second': 5.245, 'eval_steps_per_second': 0.09, 'epoch': 2.0}\n"
     ]
    },
    {
     "data": {
      "application/vnd.jupyter.widget-view+json": {
       "model_id": "78070f3f3b5c40c0a4378c19695d785b",
       "version_major": 2,
       "version_minor": 0
      },
      "text/plain": [
       "  0%|          | 0/28 [00:00<?, ?it/s]"
      ]
     },
     "metadata": {},
     "output_type": "display_data"
    },
    {
     "name": "stdout",
     "output_type": "stream",
     "text": [
      "{'train_loss': 0.03576334938406944, 'train_accuracy': 0.9913941480206541, 'train_f1_macro': 0.9764778386062141, 'train_precision_macro': 0.9683328499373944, 'train_recall_macro': 0.9850003296630843, 'train_runtime': 344.8618, 'train_samples_per_second': 5.054, 'train_steps_per_second': 0.081, 'epoch': 2.0}\n",
      "{'train_loss': 0.03576334938406944, 'train_accuracy': 0.9913941480206541, 'train_f1_macro': 0.9764778386062141, 'train_precision_macro': 0.9683328499373944, 'train_recall_macro': 0.9850003296630843, 'train_runtime': 344.8618, 'train_samples_per_second': 5.054, 'train_steps_per_second': 0.081, 'epoch': 2.0}\n"
     ]
    },
    {
     "data": {
      "application/vnd.jupyter.widget-view+json": {
       "model_id": "e84874ce7b6c4f8bbb2b097dca85a542",
       "version_major": 2,
       "version_minor": 0
      },
      "text/plain": [
       "  0%|          | 0/9 [00:00<?, ?it/s]"
      ]
     },
     "metadata": {},
     "output_type": "display_data"
    },
    {
     "name": "stdout",
     "output_type": "stream",
     "text": [
      "{'eval_loss': 0.17758701741695404, 'eval_accuracy': 0.9597701149425287, 'eval_f1_macro': 0.9032334948756653, 'eval_precision_macro': 0.858046282127354, 'eval_recall_macro': 0.9691080196399345, 'eval_runtime': 87.7016, 'eval_samples_per_second': 5.952, 'eval_steps_per_second': 0.103, 'epoch': 3.0}\n",
      "{'eval_loss': 0.17758701741695404, 'eval_accuracy': 0.9597701149425287, 'eval_f1_macro': 0.9032334948756653, 'eval_precision_macro': 0.858046282127354, 'eval_recall_macro': 0.9691080196399345, 'eval_runtime': 87.7016, 'eval_samples_per_second': 5.952, 'eval_steps_per_second': 0.103, 'epoch': 3.0}\n"
     ]
    },
    {
     "data": {
      "application/vnd.jupyter.widget-view+json": {
       "model_id": "f79cefbebebd404b87d3331b14239a47",
       "version_major": 2,
       "version_minor": 0
      },
      "text/plain": [
       "  0%|          | 0/28 [00:00<?, ?it/s]"
      ]
     },
     "metadata": {},
     "output_type": "display_data"
    },
    {
     "name": "stdout",
     "output_type": "stream",
     "text": [
      "{'train_loss': 0.06933454424142838, 'train_accuracy': 0.9804934021801491, 'train_f1_macro': 0.949320996100431, 'train_precision_macro': 0.9222939328326083, 'train_recall_macro': 0.9815004065844706, 'train_runtime': 301.8971, 'train_samples_per_second': 5.773, 'train_steps_per_second': 0.093, 'epoch': 3.0}\n",
      "{'train_loss': 0.06933454424142838, 'train_accuracy': 0.9804934021801491, 'train_f1_macro': 0.949320996100431, 'train_precision_macro': 0.9222939328326083, 'train_recall_macro': 0.9815004065844706, 'train_runtime': 301.8971, 'train_samples_per_second': 5.773, 'train_steps_per_second': 0.093, 'epoch': 3.0}\n"
     ]
    }
   ],
   "source": [
    "# =========================\n",
    "# 0) Imports\n",
    "# =========================\n",
    "import os, json, joblib, math\n",
    "import numpy as np\n",
    "import pandas as pd\n",
    "import torch\n",
    "import matplotlib.pyplot as plt\n",
    "\n",
    "from sklearn.preprocessing import LabelEncoder\n",
    "from sklearn.metrics import (\n",
    "    classification_report, confusion_matrix, ConfusionMatrixDisplay,\n",
    "    precision_recall_curve, average_precision_score,\n",
    "    f1_score, precision_score, recall_score, accuracy_score\n",
    ")\n",
    "from torch.utils.data import Dataset\n",
    "from transformers import (\n",
    "    AutoTokenizer, AutoModelForSequenceClassification,\n",
    "    Trainer, TrainingArguments, TrainerCallback\n",
    ")\n",
    "\n",
    "SEED = 42\n",
    "np.random.seed(SEED)\n",
    "torch.manual_seed(SEED)\n",
    "\n",
    "# =========================\n",
    "# 1) Données + indices figés\n",
    "# =========================\n",
    "idx_train = np.load(\"splits_idx_train.npy\")\n",
    "idx_val   = np.load(\"splits_idx_val.npy\")\n",
    "idx_test  = np.load(\"splits_idx_test.npy\")\n",
    "\n",
    "# <<< IMPORTANT : données brutes >>>\n",
    "X_all = data[\"text\"].astype(str).to_numpy()\n",
    "y_all = data[\"type_article\"].to_numpy()\n",
    "\n",
    "# =========================\n",
    "# 2) Encodage des labels\n",
    "# =========================\n",
    "label_encoder = LabelEncoder()\n",
    "y_enc = label_encoder.fit_transform(y_all)\n",
    "num_classes = len(label_encoder.classes_)\n",
    "print(\"Classes:\", list(label_encoder.classes_))\n",
    "\n",
    "# =========================\n",
    "# 3) Split par indices\n",
    "# =========================\n",
    "X_train, X_val, X_test = X_all[idx_train], X_all[idx_val], X_all[idx_test]\n",
    "y_train, y_val, y_test = y_enc[idx_train], y_enc[idx_val], y_enc[idx_test]\n",
    "\n",
    "# =========================\n",
    "# 4) Tokenizer & modèle (RoBERTa-base)\n",
    "# =========================\n",
    "model_name = \"roberta-base\"\n",
    "tokenizer = AutoTokenizer.from_pretrained(model_name, use_fast=True)\n",
    "model = AutoModelForSequenceClassification.from_pretrained(model_name, num_labels=num_classes)\n",
    "\n",
    "# =========================\n",
    "# 5) Dataset PyTorch (robuste aux NaN)\n",
    "# =========================\n",
    "class TextDataset(Dataset):\n",
    "    def __init__(self, texts, labels, tokenizer, max_length=256):\n",
    "        self.texts = [\"\" if (t is None or (isinstance(t, float) and np.isnan(t))) else str(t) for t in texts]\n",
    "        self.encodings = tokenizer(self.texts, truncation=True, padding=True, max_length=max_length)\n",
    "        self.labels = labels.tolist() if isinstance(labels, np.ndarray) else list(labels)\n",
    "        assert len(self.texts) == len(self.labels), \"Taille textes/labels incohérente.\"\n",
    "\n",
    "    def __len__(self): \n",
    "        return len(self.labels)\n",
    "\n",
    "    def __getitem__(self, idx):\n",
    "        item = {k: torch.tensor(v[idx]) for k, v in self.encodings.items()}\n",
    "        item[\"labels\"] = torch.tensor(self.labels[idx], dtype=torch.long)\n",
    "        return item\n",
    "\n",
    "train_ds = TextDataset(X_train, y_train, tokenizer, max_length=256)\n",
    "val_ds   = TextDataset(X_val,   y_val,   tokenizer, max_length=256)\n",
    "test_ds  = TextDataset(X_test,  y_test,  tokenizer, max_length=256)\n",
    "\n",
    "# =========================\n",
    "# 6) Metrics\n",
    "# =========================\n",
    "def compute_metrics(eval_pred):\n",
    "    # Compat EvalPrediction / (logits, labels)\n",
    "    if hasattr(eval_pred, \"predictions\"):\n",
    "        logits = eval_pred.predictions\n",
    "        labels = eval_pred.label_ids\n",
    "    else:\n",
    "        logits, labels = eval_pred\n",
    "    preds = np.argmax(logits, axis=1)\n",
    "    return {\n",
    "        \"accuracy\": accuracy_score(labels, preds),\n",
    "        \"f1_macro\": f1_score(labels, preds, average=\"macro\"),\n",
    "        \"precision_macro\": precision_score(labels, preds, average=\"macro\", zero_division=0),\n",
    "        \"recall_macro\": recall_score(labels, preds, average=\"macro\", zero_division=0),\n",
    "    }\n",
    "\n",
    "# =========================\n",
    "# 7) Callbacks (VAL + early stop custom) & (TRAIN logging)\n",
    "# =========================\n",
    "class ValEvalAndEarlyStopCallback(TrainerCallback):\n",
    "    \"\"\"\n",
    "    - Évalue sur VAL à la fin de chaque epoch\n",
    "    - Loggue 'eval_*' dans log_history\n",
    "    - Early stopping custom basé sur metric_for_best_model / greater_is_better\n",
    "    - Sauvegarde le meilleur modèle dans output_dir/best_checkpoint\n",
    "    \"\"\"\n",
    "    def __init__(self, trainer, patience=3):\n",
    "        self.trainer = trainer\n",
    "        self.patience = patience\n",
    "        self.best_metric = None\n",
    "        self.best_epoch = None\n",
    "        self.bad_epochs = 0\n",
    "        self.best_dir = os.path.join(str(trainer.args.output_dir), \"best_checkpoint\")\n",
    "        os.makedirs(self.best_dir, exist_ok=True)\n",
    "        self.metric_name = trainer.args.metric_for_best_model or \"eval_loss\"\n",
    "        self.greater_is_better = bool(trainer.args.greater_is_better)\n",
    "\n",
    "    def _is_better(self, current, best):\n",
    "        if best is None:\n",
    "            return True\n",
    "        return (current > best) if self.greater_is_better else (current < best)\n",
    "\n",
    "    def on_epoch_end(self, args, state, control, **kwargs):\n",
    "        # 1) Eval VAL\n",
    "        try:\n",
    "            metrics = self.trainer.evaluate(\n",
    "                eval_dataset=self.trainer.eval_dataset,\n",
    "                metric_key_prefix=\"eval\"\n",
    "            )\n",
    "        except TypeError:\n",
    "            metrics = self.trainer.evaluate(eval_dataset=self.trainer.eval_dataset)\n",
    "\n",
    "        # 2) Logger avec epoch\n",
    "        if state.epoch is not None:\n",
    "            metrics[\"epoch\"] = float(state.epoch)\n",
    "        self.trainer.log({k: float(v) for k, v in metrics.items()\n",
    "                          if isinstance(v, (int, float, np.floating))})\n",
    "\n",
    "        # 3) Early stopping\n",
    "        current = metrics.get(self.metric_name, None)\n",
    "        if current is None or (isinstance(current, float) and math.isnan(current)):\n",
    "            return control\n",
    "\n",
    "        if self._is_better(current, self.best_metric):\n",
    "            self.best_metric = current\n",
    "            self.best_epoch = int(round(state.epoch)) if state.epoch is not None else None\n",
    "            self.bad_epochs = 0\n",
    "            # Save best\n",
    "            self.trainer.save_model(self.best_dir)\n",
    "            if getattr(self.trainer, \"tokenizer\", None) is not None:\n",
    "                self.trainer.tokenizer.save_pretrained(self.best_dir)\n",
    "            control.should_save = True\n",
    "        else:\n",
    "            self.bad_epochs += 1\n",
    "            if self.bad_epochs >= self.patience:\n",
    "                control.should_training_stop = True\n",
    "\n",
    "        return control\n",
    "\n",
    "class TrainEvalCallback(TrainerCallback):\n",
    "    \"\"\"Évalue sur TRAIN à la fin de chaque epoch et loggue train_*.\"\"\"\n",
    "    def __init__(self, trainer, train_dataset):\n",
    "        self.trainer = trainer\n",
    "        self.train_dataset = train_dataset\n",
    "\n",
    "    def on_epoch_end(self, args, state, control, **kwargs):\n",
    "        try:\n",
    "            metrics = self.trainer.evaluate(\n",
    "                eval_dataset=self.train_dataset,\n",
    "                metric_key_prefix=\"train\"\n",
    "            )\n",
    "        except TypeError:\n",
    "            metrics = self.trainer.evaluate(eval_dataset=self.train_dataset)\n",
    "            metrics = {f\"train_{k}\": v for k, v in metrics.items()}\n",
    "\n",
    "        if state.epoch is not None:\n",
    "            metrics[\"epoch\"] = float(state.epoch)\n",
    "        self.trainer.log({k: float(v) for k, v in metrics.items()\n",
    "                          if isinstance(v, (int, float, np.floating))})\n",
    "        return control\n",
    "\n",
    "# =========================\n",
    "# 8) TrainingArguments + Trainer\n",
    "# =========================\n",
    "training_args = TrainingArguments(\n",
    "    output_dir=\"./results_RoBERTa\",\n",
    "    num_train_epochs=50,                 # large, l'early stop coupera\n",
    "    per_device_train_batch_size=16,\n",
    "    per_device_eval_batch_size=64,\n",
    "    evaluation_strategy=\"epoch\",         # si non supporté, nos callbacks couvrent le besoin\n",
    "    save_strategy=\"epoch\",\n",
    "    load_best_model_at_end=False,        # on gère le \"best\" nous-mêmes (best_checkpoint)\n",
    "    metric_for_best_model=\"eval_loss\",   # ou \"eval_f1_macro\"\n",
    "    greater_is_better=False,             # True si \"eval_f1_macro\"\n",
    "    logging_dir=\"./logs_RoBERTa\",\n",
    "    logging_strategy=\"epoch\",\n",
    "    report_to=\"none\",\n",
    "    save_total_limit=3,\n",
    "    seed=SEED,\n",
    "    dataloader_pin_memory=False,         # évite le warning CPU\n",
    "    # fp16=True,                         # à activer si GPU FP16 dispo\n",
    ")\n",
    "\n",
    "trainer = Trainer(\n",
    "    model=model,\n",
    "    args=training_args,\n",
    "    train_dataset=train_ds,\n",
    "    eval_dataset=val_ds,\n",
    "    compute_metrics=compute_metrics,\n",
    "    tokenizer=tokenizer,                 # pour sauvegarder aussi le tokenizer du best\n",
    "    callbacks=[]                         # pas d'EarlyStopping natif HF\n",
    ")\n",
    "\n",
    "# Brancher les callbacks\n",
    "trainer.add_callback(ValEvalAndEarlyStopCallback(trainer, patience=3))\n",
    "trainer.add_callback(TrainEvalCallback(trainer, train_ds))\n",
    "\n",
    "# =========================\n",
    "# 9) Entraînement\n",
    "# =========================\n",
    "trainer.train()\n",
    "\n",
    "# =========================\n",
    "# 10) Historique -> courbes (robuste)\n",
    "# =========================\n",
    "log_hist = trainer.state.log_history\n",
    "hist_df = pd.DataFrame(log_hist).copy()\n",
    "\n",
    "needed = [\n",
    "    \"epoch\",\"eval_loss\",\"eval_accuracy\",\"eval_f1_macro\",\n",
    "    \"train_loss\",\"train_accuracy\",\"train_f1_macro\",\n",
    "    \"train_precision_macro\",\"train_recall_macro\"\n",
    "]\n",
    "for c in needed:\n",
    "    if c not in hist_df.columns: hist_df[c] = np.nan\n",
    "\n",
    "hist_df = hist_df[pd.to_numeric(hist_df[\"epoch\"], errors=\"coerce\").notna()].copy()\n",
    "hist_df[\"epoch\"] = hist_df[\"epoch\"].astype(float).round().astype(int)\n",
    "\n",
    "for c in [x for x in needed if x != \"epoch\"]:\n",
    "    hist_df[c] = pd.to_numeric(hist_df[c], errors=\"coerce\")\n",
    "\n",
    "def last_not_nan(s: pd.Series):\n",
    "    s = s.dropna()\n",
    "    return s.iloc[-1] if len(s) else np.nan\n",
    "\n",
    "curves = (\n",
    "    hist_df\n",
    "    .sort_values([\"epoch\"])\n",
    "    .groupby(\"epoch\", as_index=False)\n",
    "    .agg({col: last_not_nan for col in needed if col != \"epoch\"})\n",
    "    .sort_values(\"epoch\")\n",
    "    .reset_index(drop=True)\n",
    ")\n",
    "\n",
    "print(\"\\nAperçu des courbes (par epoch):\\n\", curves.head(10))\n",
    "\n",
    "def _safe_plot(x, y, label):\n",
    "    s = pd.Series(y)\n",
    "    if s.notna().any():\n",
    "        plt.plot(x, y, marker=\"o\", label=label)\n",
    "\n",
    "plt.figure(figsize=(7,5))\n",
    "_safe_plot(curves[\"epoch\"], curves[\"train_loss\"], \"Train Loss\")\n",
    "_safe_plot(curves[\"epoch\"], curves[\"eval_loss\"],  \"Val Loss\")\n",
    "plt.xlabel(\"Epoch\"); plt.ylabel(\"Loss\"); plt.title(\"RoBERTa — Loss (Train vs Val)\")\n",
    "plt.legend(); plt.grid(True); plt.tight_layout(); plt.show()\n",
    "\n",
    "plt.figure(figsize=(7,5))\n",
    "_safe_plot(curves[\"epoch\"], curves[\"train_accuracy\"], \"Train Acc\")\n",
    "_safe_plot(curves[\"epoch\"], curves[\"eval_accuracy\"],  \"Val Acc\")\n",
    "plt.xlabel(\"Epoch\"); plt.ylabel(\"Accuracy\"); plt.title(\"RoBERTa — Accuracy (Train vs Val)\")\n",
    "plt.legend(); plt.grid(True); plt.tight_layout(); plt.show()\n",
    "\n",
    "plt.figure(figsize=(7,5))\n",
    "_safe_plot(curves[\"epoch\"], curves[\"train_f1_macro\"], \"Train F1 (macro)\")\n",
    "_safe_plot(curves[\"epoch\"], curves[\"eval_f1_macro\"],  \"Val F1 (macro)\")\n",
    "plt.xlabel(\"Epoch\"); plt.ylabel(\"F1 (macro)\"); plt.title(\"RoBERTa — F1 macro (Train vs Val)\")\n",
    "plt.legend(); plt.grid(True); plt.tight_layout(); plt.show()\n",
    "\n",
    "# =========================\n",
    "# 11) Évaluation finale sur TEST (avec le meilleur modèle)\n",
    "# =========================\n",
    "best_dir = os.path.join(training_args.output_dir, \"best_checkpoint\")\n",
    "if os.path.isdir(best_dir):\n",
    "    model = AutoModelForSequenceClassification.from_pretrained(best_dir).to(model.device)\n",
    "    trainer.model = model\n",
    "    print(f\"\\nBest checkpoint utilisé pour TEST: {best_dir}\")\n",
    "\n",
    "preds_test = trainer.predict(test_ds)\n",
    "y_pred = np.argmax(preds_test.predictions, axis=1)\n",
    "y_scores = torch.softmax(torch.tensor(preds_test.predictions), dim=1).numpy()\n",
    "\n",
    "print(\"\\n=== Rapport de classification (TEST) — RoBERTa fine-tuné ===\")\n",
    "print(classification_report(y_test, y_pred, target_names=label_encoder.classes_))\n",
    "\n",
    "cm = confusion_matrix(y_test, y_pred)\n",
    "disp = ConfusionMatrixDisplay(confusion_matrix=cm, display_labels=label_encoder.classes_)\n",
    "disp.plot(cmap=\"Blues\")\n",
    "plt.xticks(rotation=45)\n",
    "plt.title(\"Matrice de confusion — TEST (RoBERTa)\")\n",
    "plt.tight_layout()\n",
    "plt.show()\n",
    "\n",
    "# Courbe PR pour \"VS\" si présent\n",
    "classes = list(label_encoder.classes_)\n",
    "if \"VS\" in classes:\n",
    "    vs_idx = classes.index(\"VS\")\n",
    "    y_true_bin = (y_test == vs_idx).astype(int)\n",
    "    y_prob_vs = y_scores[:, vs_idx]\n",
    "    precision, recall, _ = precision_recall_curve(y_true_bin, y_prob_vs)\n",
    "    auc_pr = average_precision_score(y_true_bin, y_prob_vs)\n",
    "    plt.figure(figsize=(7,5))\n",
    "    plt.plot(recall, precision, label=f\"AUC-PR = {auc_pr:.3f}\")\n",
    "    plt.xlabel(\"Recall\"); plt.ylabel(\"Precision\")\n",
    "    plt.title(\"Precision–Recall (classe VS) — TEST (RoBERTa)\")\n",
    "    plt.legend(); plt.grid(True); plt.tight_layout(); plt.show()\n",
    "else:\n",
    "    print(\"Classe 'VS' absente — PR-curve sautée.\")\n",
    "\n",
    "# =========================\n",
    "# 12) Sauvegardes\n",
    "# =========================\n",
    "save_dir = \"results_RoBERTa_final\"\n",
    "os.makedirs(save_dir, exist_ok=True)\n",
    "\n",
    "trainer.model.save_pretrained(save_dir)\n",
    "tokenizer.save_pretrained(save_dir)\n",
    "joblib.dump(label_encoder, os.path.join(save_dir, \"label_encoder.joblib\"))\n",
    "\n",
    "curves.to_csv(os.path.join(save_dir, \"learning_curves.csv\"), index=False)\n",
    "with open(os.path.join(save_dir, \"log_history.json\"), \"w\", encoding=\"utf-8\") as f:\n",
    "    json.dump(log_hist, f, ensure_ascii=False, indent=2)\n",
    "\n",
    "print(\"\\nTerminé. Courbes + meilleur modèle sauvegardés.\")\n"
   ]
  },
  {
   "cell_type": "markdown",
   "id": "1e7d56e1",
   "metadata": {},
   "source": [
    "Ce fine-tuning RoBERTa prend trop de temps, nous allons essayer de lancer le fine-tuning de SBERT "
   ]
  },
  {
   "cell_type": "markdown",
   "id": "040f1dff",
   "metadata": {},
   "source": [
    "### Fine-tuning de SBERT avec Trainer "
   ]
  },
  {
   "cell_type": "markdown",
   "id": "e8b762a0",
   "metadata": {},
   "source": [
    "### Créeons des indices des splits qu'on pourra utiliser pour comparer ce fine-tuning avec TF-IDF + XG-BOOST qui fonctionne mieux jusqu'à présent avec peu de ressources "
   ]
  },
  {
   "cell_type": "code",
   "execution_count": 20,
   "id": "6adb932c",
   "metadata": {},
   "outputs": [
    {
     "name": "stdout",
     "output_type": "stream",
     "text": [
      "1743 522 225\n"
     ]
    }
   ],
   "source": [
    "import numpy as np\n",
    "from sklearn.model_selection import train_test_split\n",
    "\n",
    "SEED = 42\n",
    "N = len(data)\n",
    "\n",
    "idx_all = np.arange(N)\n",
    "y = data[\"type_article\"].to_numpy()\n",
    "\n",
    "\n",
    "idx_train, idx_temp, y_train_tmp, y_temp_tmp = train_test_split(\n",
    "    idx_all, y, test_size=0.3, stratify=y, random_state=SEED\n",
    ")\n",
    "idx_val, idx_test, _, _ = train_test_split(\n",
    "    idx_temp, y_temp_tmp, test_size=0.3, stratify=y_temp_tmp, random_state=SEED\n",
    ")\n",
    "\n",
    "np.save(\"splits_idx_train.npy\", idx_train)\n",
    "np.save(\"splits_idx_val.npy\",   idx_val)\n",
    "np.save(\"splits_idx_test.npy\",  idx_test)\n",
    "print(len(idx_train), len(idx_val), len(idx_test))\n"
   ]
  },
  {
   "cell_type": "markdown",
   "id": "38da829d",
   "metadata": {},
   "source": [
    "### Fine-tuning de SBERT \n",
    "\n",
    "Nous le faisons sur les données brutes (pas de tokenisation, lemmatisation...)"
   ]
  },
  {
   "cell_type": "code",
   "execution_count": 16,
   "id": "5d65e99c",
   "metadata": {},
   "outputs": [
    {
     "name": "stdout",
     "output_type": "stream",
     "text": [
      "Classes: ['NVS', 'VS']\n"
     ]
    },
    {
     "name": "stderr",
     "output_type": "stream",
     "text": [
      "Some weights of BertForSequenceClassification were not initialized from the model checkpoint at sentence-transformers/all-MiniLM-L6-v2 and are newly initialized: ['classifier.bias', 'classifier.weight']\n",
      "You should probably TRAIN this model on a down-stream task to be able to use it for predictions and inference.\n",
      "d:\\Rosalie\\Classification_2\\.venv\\lib\\site-packages\\transformers\\training_args.py:1474: FutureWarning: `evaluation_strategy` is deprecated and will be removed in version 4.46 of 🤗 Transformers. Use `eval_strategy` instead\n",
      "  warnings.warn(\n"
     ]
    },
    {
     "data": {
      "application/vnd.jupyter.widget-view+json": {
       "model_id": "636645dda6b24df1a0a865207cfced34",
       "version_major": 2,
       "version_minor": 0
      },
      "text/plain": [
       "  0%|          | 0/2180 [00:00<?, ?it/s]"
      ]
     },
     "metadata": {},
     "output_type": "display_data"
    },
    {
     "data": {
      "application/vnd.jupyter.widget-view+json": {
       "model_id": "138692cb8e2b43cb80df579fa56e1ef6",
       "version_major": 2,
       "version_minor": 0
      },
      "text/plain": [
       "  0%|          | 0/9 [00:00<?, ?it/s]"
      ]
     },
     "metadata": {},
     "output_type": "display_data"
    },
    {
     "name": "stdout",
     "output_type": "stream",
     "text": [
      "{'eval_loss': 0.10928507894277573, 'eval_accuracy': 0.9693486590038314, 'eval_f1_macro': 0.9115254237288135, 'eval_precision_macro': 0.926951476793249, 'eval_recall_macro': 0.8974631751227495, 'eval_runtime': 22.3724, 'eval_samples_per_second': 23.332, 'eval_steps_per_second': 0.402, 'epoch': 1.0}\n",
      "{'eval_loss': 0.10928507894277573, 'eval_accuracy': 0.9693486590038314, 'eval_f1_macro': 0.9115254237288135, 'eval_precision_macro': 0.926951476793249, 'eval_recall_macro': 0.8974631751227495, 'eval_runtime': 22.3724, 'eval_samples_per_second': 23.332, 'eval_steps_per_second': 0.402, 'epoch': 1.0}\n"
     ]
    },
    {
     "data": {
      "application/vnd.jupyter.widget-view+json": {
       "model_id": "d49c3cf4f76c4c3ebf018decdadbec77",
       "version_major": 2,
       "version_minor": 0
      },
      "text/plain": [
       "  0%|          | 0/28 [00:00<?, ?it/s]"
      ]
     },
     "metadata": {},
     "output_type": "display_data"
    },
    {
     "name": "stdout",
     "output_type": "stream",
     "text": [
      "{'train_loss': 0.11378870159387589, 'train_accuracy': 0.9672977624784854, 'train_f1_macro': 0.8993837506646074, 'train_precision_macro': 0.9488710219887102, 'train_recall_macro': 0.86175578558713, 'train_runtime': 75.0161, 'train_samples_per_second': 23.235, 'train_steps_per_second': 0.373, 'epoch': 1.0}\n",
      "{'train_loss': 0.11378870159387589, 'train_accuracy': 0.9672977624784854, 'train_f1_macro': 0.8993837506646074, 'train_precision_macro': 0.9488710219887102, 'train_recall_macro': 0.86175578558713, 'train_runtime': 75.0161, 'train_samples_per_second': 23.235, 'train_steps_per_second': 0.373, 'epoch': 1.0}\n"
     ]
    },
    {
     "data": {
      "application/vnd.jupyter.widget-view+json": {
       "model_id": "33bcbb6249874fbea37a6b2f20bc0e80",
       "version_major": 2,
       "version_minor": 0
      },
      "text/plain": [
       "  0%|          | 0/9 [00:00<?, ?it/s]"
      ]
     },
     "metadata": {},
     "output_type": "display_data"
    },
    {
     "name": "stdout",
     "output_type": "stream",
     "text": [
      "{'eval_loss': 0.10148672759532928, 'eval_accuracy': 0.9674329501915708, 'eval_f1_macro': 0.9193822393822393, 'eval_precision_macro': 0.879498113826472, 'eval_recall_macro': 0.9733633387888707, 'eval_runtime': 28.5696, 'eval_samples_per_second': 18.271, 'eval_steps_per_second': 0.315, 'epoch': 2.0}\n",
      "{'eval_loss': 0.10148672759532928, 'eval_accuracy': 0.9674329501915708, 'eval_f1_macro': 0.9193822393822393, 'eval_precision_macro': 0.879498113826472, 'eval_recall_macro': 0.9733633387888707, 'eval_runtime': 28.5696, 'eval_samples_per_second': 18.271, 'eval_steps_per_second': 0.315, 'epoch': 2.0}\n"
     ]
    },
    {
     "data": {
      "application/vnd.jupyter.widget-view+json": {
       "model_id": "49f38f434dd64e309bdde57bb8801d42",
       "version_major": 2,
       "version_minor": 0
      },
      "text/plain": [
       "  0%|          | 0/28 [00:00<?, ?it/s]"
      ]
     },
     "metadata": {},
     "output_type": "display_data"
    },
    {
     "name": "stdout",
     "output_type": "stream",
     "text": [
      "{'train_loss': 0.1004517674446106, 'train_accuracy': 0.9661503155479059, 'train_f1_macro': 0.9130713733247112, 'train_precision_macro': 0.8846571180555556, 'train_recall_macro': 0.9479846596778093, 'train_runtime': 94.5528, 'train_samples_per_second': 18.434, 'train_steps_per_second': 0.296, 'epoch': 2.0}\n",
      "{'train_loss': 0.1004517674446106, 'train_accuracy': 0.9661503155479059, 'train_f1_macro': 0.9130713733247112, 'train_precision_macro': 0.8846571180555556, 'train_recall_macro': 0.9479846596778093, 'train_runtime': 94.5528, 'train_samples_per_second': 18.434, 'train_steps_per_second': 0.296, 'epoch': 2.0}\n"
     ]
    },
    {
     "data": {
      "application/vnd.jupyter.widget-view+json": {
       "model_id": "e5fb97e321a342e1ac0545b64b9c262e",
       "version_major": 2,
       "version_minor": 0
      },
      "text/plain": [
       "  0%|          | 0/9 [00:00<?, ?it/s]"
      ]
     },
     "metadata": {},
     "output_type": "display_data"
    },
    {
     "name": "stdout",
     "output_type": "stream",
     "text": [
      "{'eval_loss': 0.09746074676513672, 'eval_accuracy': 0.9597701149425287, 'eval_f1_macro': 0.9018471925002014, 'eval_precision_macro': 0.8601113350609464, 'eval_recall_macro': 0.9605564648117839, 'eval_runtime': 22.4746, 'eval_samples_per_second': 23.226, 'eval_steps_per_second': 0.4, 'epoch': 3.0}\n",
      "{'eval_loss': 0.09746074676513672, 'eval_accuracy': 0.9597701149425287, 'eval_f1_macro': 0.9018471925002014, 'eval_precision_macro': 0.8601113350609464, 'eval_recall_macro': 0.9605564648117839, 'eval_runtime': 22.4746, 'eval_samples_per_second': 23.226, 'eval_steps_per_second': 0.4, 'epoch': 3.0}\n"
     ]
    },
    {
     "data": {
      "application/vnd.jupyter.widget-view+json": {
       "model_id": "c499e066a545499b957b04f4b841c9b9",
       "version_major": 2,
       "version_minor": 0
      },
      "text/plain": [
       "  0%|          | 0/28 [00:00<?, ?it/s]"
      ]
     },
     "metadata": {},
     "output_type": "display_data"
    },
    {
     "name": "stdout",
     "output_type": "stream",
     "text": [
      "{'train_loss': 0.06112932041287422, 'train_accuracy': 0.9764773379231211, 'train_f1_macro': 0.9381628759199249, 'train_precision_macro': 0.9158709885015202, 'train_recall_macro': 0.9639403529592756, 'train_runtime': 73.3092, 'train_samples_per_second': 23.776, 'train_steps_per_second': 0.382, 'epoch': 3.0}\n",
      "{'train_loss': 0.06112932041287422, 'train_accuracy': 0.9764773379231211, 'train_f1_macro': 0.9381628759199249, 'train_precision_macro': 0.9158709885015202, 'train_recall_macro': 0.9639403529592756, 'train_runtime': 73.3092, 'train_samples_per_second': 23.776, 'train_steps_per_second': 0.382, 'epoch': 3.0}\n"
     ]
    },
    {
     "data": {
      "application/vnd.jupyter.widget-view+json": {
       "model_id": "3d7f85b287ac4ffba703cfb08137ac1c",
       "version_major": 2,
       "version_minor": 0
      },
      "text/plain": [
       "  0%|          | 0/9 [00:00<?, ?it/s]"
      ]
     },
     "metadata": {},
     "output_type": "display_data"
    },
    {
     "name": "stdout",
     "output_type": "stream",
     "text": [
      "{'eval_loss': 0.09452853351831436, 'eval_accuracy': 0.9770114942528736, 'eval_f1_macro': 0.9390305625851665, 'eval_precision_macro': 0.9191810344827587, 'eval_recall_macro': 0.9615793780687398, 'eval_runtime': 22.4906, 'eval_samples_per_second': 23.21, 'eval_steps_per_second': 0.4, 'epoch': 4.0}\n",
      "{'eval_loss': 0.09452853351831436, 'eval_accuracy': 0.9770114942528736, 'eval_f1_macro': 0.9390305625851665, 'eval_precision_macro': 0.9191810344827587, 'eval_recall_macro': 0.9615793780687398, 'eval_runtime': 22.4906, 'eval_samples_per_second': 23.21, 'eval_steps_per_second': 0.4, 'epoch': 4.0}\n"
     ]
    },
    {
     "data": {
      "application/vnd.jupyter.widget-view+json": {
       "model_id": "cac31824b40a4387b59f47a3c428e36b",
       "version_major": 2,
       "version_minor": 0
      },
      "text/plain": [
       "  0%|          | 0/28 [00:00<?, ?it/s]"
      ]
     },
     "metadata": {},
     "output_type": "display_data"
    },
    {
     "name": "stdout",
     "output_type": "stream",
     "text": [
      "{'train_loss': 0.033873267471790314, 'train_accuracy': 0.9931153184165232, 'train_f1_macro': 0.9807481315120945, 'train_precision_macro': 0.9832372359480703, 'train_recall_macro': 0.9782916858970132, 'train_runtime': 76.6658, 'train_samples_per_second': 22.735, 'train_steps_per_second': 0.365, 'epoch': 4.0}\n",
      "{'train_loss': 0.033873267471790314, 'train_accuracy': 0.9931153184165232, 'train_f1_macro': 0.9807481315120945, 'train_precision_macro': 0.9832372359480703, 'train_recall_macro': 0.9782916858970132, 'train_runtime': 76.6658, 'train_samples_per_second': 22.735, 'train_steps_per_second': 0.365, 'epoch': 4.0}\n"
     ]
    },
    {
     "data": {
      "application/vnd.jupyter.widget-view+json": {
       "model_id": "923919c1a3b3490094deba7c9d35f4d3",
       "version_major": 2,
       "version_minor": 0
      },
      "text/plain": [
       "  0%|          | 0/9 [00:00<?, ?it/s]"
      ]
     },
     "metadata": {},
     "output_type": "display_data"
    },
    {
     "name": "stdout",
     "output_type": "stream",
     "text": [
      "{'eval_loss': 0.1371663212776184, 'eval_accuracy': 0.9655172413793104, 'eval_f1_macro': 0.9152597402597402, 'eval_precision_macro': 0.873898678414097, 'eval_recall_macro': 0.9722995090016366, 'eval_runtime': 21.9996, 'eval_samples_per_second': 23.728, 'eval_steps_per_second': 0.409, 'epoch': 5.0}\n",
      "{'eval_loss': 0.1371663212776184, 'eval_accuracy': 0.9655172413793104, 'eval_f1_macro': 0.9152597402597402, 'eval_precision_macro': 0.873898678414097, 'eval_recall_macro': 0.9722995090016366, 'eval_runtime': 21.9996, 'eval_samples_per_second': 23.728, 'eval_steps_per_second': 0.409, 'epoch': 5.0}\n"
     ]
    },
    {
     "data": {
      "application/vnd.jupyter.widget-view+json": {
       "model_id": "edd8df32a8b5444cbea400e546b7f414",
       "version_major": 2,
       "version_minor": 0
      },
      "text/plain": [
       "  0%|          | 0/28 [00:00<?, ?it/s]"
      ]
     },
     "metadata": {},
     "output_type": "display_data"
    },
    {
     "name": "stdout",
     "output_type": "stream",
     "text": [
      "{'train_loss': 0.020875515416264534, 'train_accuracy': 0.9954102122776821, 'train_f1_macro': 0.9873600394500204, 'train_precision_macro': 0.9825070897799476, 'train_recall_macro': 0.992340827674117, 'train_runtime': 74.3223, 'train_samples_per_second': 23.452, 'train_steps_per_second': 0.377, 'epoch': 5.0}\n",
      "{'train_loss': 0.020875515416264534, 'train_accuracy': 0.9954102122776821, 'train_f1_macro': 0.9873600394500204, 'train_precision_macro': 0.9825070897799476, 'train_recall_macro': 0.992340827674117, 'train_runtime': 74.3223, 'train_samples_per_second': 23.452, 'train_steps_per_second': 0.377, 'epoch': 5.0}\n"
     ]
    },
    {
     "data": {
      "application/vnd.jupyter.widget-view+json": {
       "model_id": "b201cf195672474c8c5f561ea91b68e6",
       "version_major": 2,
       "version_minor": 0
      },
      "text/plain": [
       "  0%|          | 0/9 [00:00<?, ?it/s]"
      ]
     },
     "metadata": {},
     "output_type": "display_data"
    },
    {
     "name": "stdout",
     "output_type": "stream",
     "text": [
      "{'eval_loss': 0.2144753336906433, 'eval_accuracy': 0.9578544061302682, 'eval_f1_macro': 0.8993338008415148, 'eval_precision_macro': 0.8530555555555556, 'eval_recall_macro': 0.9680441898527005, 'eval_runtime': 29.0046, 'eval_samples_per_second': 17.997, 'eval_steps_per_second': 0.31, 'epoch': 6.0}\n",
      "{'eval_loss': 0.2144753336906433, 'eval_accuracy': 0.9578544061302682, 'eval_f1_macro': 0.8993338008415148, 'eval_precision_macro': 0.8530555555555556, 'eval_recall_macro': 0.9680441898527005, 'eval_runtime': 29.0046, 'eval_samples_per_second': 17.997, 'eval_steps_per_second': 0.31, 'epoch': 6.0}\n"
     ]
    },
    {
     "data": {
      "application/vnd.jupyter.widget-view+json": {
       "model_id": "470d8421655a4682966095c44257ea7e",
       "version_major": 2,
       "version_minor": 0
      },
      "text/plain": [
       "  0%|          | 0/28 [00:00<?, ?it/s]"
      ]
     },
     "metadata": {},
     "output_type": "display_data"
    },
    {
     "name": "stdout",
     "output_type": "stream",
     "text": [
      "{'train_loss': 0.017723657190799713, 'train_accuracy': 0.9959839357429718, 'train_f1_macro': 0.9889678457144045, 'train_precision_macro': 0.982920530369058, 'train_recall_macro': 0.9952143908925078, 'train_runtime': 98.1343, 'train_samples_per_second': 17.761, 'train_steps_per_second': 0.285, 'epoch': 6.0}\n",
      "{'train_loss': 0.017723657190799713, 'train_accuracy': 0.9959839357429718, 'train_f1_macro': 0.9889678457144045, 'train_precision_macro': 0.982920530369058, 'train_recall_macro': 0.9952143908925078, 'train_runtime': 98.1343, 'train_samples_per_second': 17.761, 'train_steps_per_second': 0.285, 'epoch': 6.0}\n"
     ]
    },
    {
     "data": {
      "application/vnd.jupyter.widget-view+json": {
       "model_id": "084e6f3be28d494f9cef588f52926e6b",
       "version_major": 2,
       "version_minor": 0
      },
      "text/plain": [
       "  0%|          | 0/9 [00:00<?, ?it/s]"
      ]
     },
     "metadata": {},
     "output_type": "display_data"
    },
    {
     "name": "stdout",
     "output_type": "stream",
     "text": [
      "{'eval_loss': 0.11548793315887451, 'eval_accuracy': 0.9712643678160919, 'eval_f1_macro': 0.9255724646635552, 'eval_precision_macro': 0.8983855481668503, 'eval_recall_macro': 0.9583878887070376, 'eval_runtime': 22.2103, 'eval_samples_per_second': 23.503, 'eval_steps_per_second': 0.405, 'epoch': 7.0}\n",
      "{'eval_loss': 0.11548793315887451, 'eval_accuracy': 0.9712643678160919, 'eval_f1_macro': 0.9255724646635552, 'eval_precision_macro': 0.8983855481668503, 'eval_recall_macro': 0.9583878887070376, 'eval_runtime': 22.2103, 'eval_samples_per_second': 23.503, 'eval_steps_per_second': 0.405, 'epoch': 7.0}\n"
     ]
    },
    {
     "data": {
      "application/vnd.jupyter.widget-view+json": {
       "model_id": "3b39d7616d294f3197b7d6c0cb0e6dce",
       "version_major": 2,
       "version_minor": 0
      },
      "text/plain": [
       "  0%|          | 0/28 [00:00<?, ?it/s]"
      ]
     },
     "metadata": {},
     "output_type": "display_data"
    },
    {
     "name": "stdout",
     "output_type": "stream",
     "text": [
      "{'train_loss': 0.006610301788896322, 'train_accuracy': 0.9982788296041308, 'train_f1_macro': 0.9952238418798461, 'train_precision_macro': 0.9939668367346939, 'train_recall_macro': 0.9964890881519087, 'train_runtime': 75.6515, 'train_samples_per_second': 23.04, 'train_steps_per_second': 0.37, 'epoch': 7.0}\n",
      "{'train_loss': 0.006610301788896322, 'train_accuracy': 0.9982788296041308, 'train_f1_macro': 0.9952238418798461, 'train_precision_macro': 0.9939668367346939, 'train_recall_macro': 0.9964890881519087, 'train_runtime': 75.6515, 'train_samples_per_second': 23.04, 'train_steps_per_second': 0.37, 'epoch': 7.0}\n",
      "{'train_runtime': 5097.744, 'train_samples_per_second': 6.838, 'train_steps_per_second': 0.428, 'train_loss': 0.09312535957146441, 'epoch': 7.0}\n",
      "\n",
      "Aperçu des courbes (par epoch):\n",
      "    epoch  eval_loss  eval_accuracy  eval_f1_macro  train_loss  train_accuracy  \\\n",
      "0      1   0.109285       0.969349       0.911525    0.113789        0.967298   \n",
      "1      2   0.101487       0.967433       0.919382    0.100452        0.966150   \n",
      "2      3   0.097461       0.959770       0.901847    0.061129        0.976477   \n",
      "3      4   0.094529       0.977011       0.939031    0.033873        0.993115   \n",
      "4      5   0.137166       0.965517       0.915260    0.020876        0.995410   \n",
      "5      6   0.214475       0.957854       0.899334    0.017724        0.995984   \n",
      "6      7   0.115488       0.971264       0.925572    0.093125        0.998279   \n",
      "\n",
      "   train_f1_macro  train_precision_macro  train_recall_macro  \n",
      "0        0.899384               0.948871            0.861756  \n",
      "1        0.913071               0.884657            0.947985  \n",
      "2        0.938163               0.915871            0.963940  \n",
      "3        0.980748               0.983237            0.978292  \n",
      "4        0.987360               0.982507            0.992341  \n",
      "5        0.988968               0.982921            0.995214  \n",
      "6        0.995224               0.993967            0.996489  \n"
     ]
    },
    {
     "data": {
      "image/png": "[encoded data removed]",
      "text/plain": [
       "<Figure size 700x500 with 1 Axes>"
      ]
     },
     "metadata": {},
     "output_type": "display_data"
    },
    {
     "data": {
      "image/png": "[encoded data removed]",
      "text/plain": [
       "<Figure size 700x500 with 1 Axes>"
      ]
     },
     "metadata": {},
     "output_type": "display_data"
    },
    {
     "data": {
      "image/png": "[encoded data removed]",
      "text/plain": [
       "<Figure size 700x500 with 1 Axes>"
      ]
     },
     "metadata": {},
     "output_type": "display_data"
    },
    {
     "data": {
      "application/vnd.jupyter.widget-view+json": {
       "model_id": "c22c1b7a6bda45869f47eab079c0c5a3",
       "version_major": 2,
       "version_minor": 0
      },
      "text/plain": [
       "  0%|          | 0/4 [00:00<?, ?it/s]"
      ]
     },
     "metadata": {},
     "output_type": "display_data"
    },
    {
     "name": "stdout",
     "output_type": "stream",
     "text": [
      "\n",
      "=== Rapport de classification (TEST) ===\n",
      "              precision    recall  f1-score   support\n",
      "\n",
      "         NVS       1.00      1.00      1.00       202\n",
      "          VS       0.96      0.96      0.96        23\n",
      "\n",
      "    accuracy                           0.99       225\n",
      "   macro avg       0.98      0.98      0.98       225\n",
      "weighted avg       0.99      0.99      0.99       225\n",
      "\n"
     ]
    },
    {
     "data": {
      "image/png": "[encoded data removed]",
      "text/plain": [
       "<Figure size 640x480 with 2 Axes>"
      ]
     },
     "metadata": {},
     "output_type": "display_data"
    },
    {
     "data": {
      "image/png": "[encoded data removed]",
      "text/plain": [
       "<Figure size 700x500 with 1 Axes>"
      ]
     },
     "metadata": {},
     "output_type": "display_data"
    },
    {
     "name": "stdout",
     "output_type": "stream",
     "text": [
      "\n",
      "Best model saved to: ./results_SBERT\\best_checkpoint (metric eval_f1_macro with greater_is_better=True)\n"
     ]
    }
   ],
   "source": [
    "# =========================\n",
    "# 0) Imports\n",
    "# =========================\n",
    "import os, json, joblib\n",
    "import numpy as np\n",
    "import pandas as pd\n",
    "import torch\n",
    "import matplotlib.pyplot as plt\n",
    "\n",
    "from sklearn.preprocessing import LabelEncoder\n",
    "from sklearn.metrics import (\n",
    "    classification_report, confusion_matrix, ConfusionMatrixDisplay,\n",
    "    precision_recall_curve, average_precision_score,\n",
    "    f1_score, precision_score, recall_score, accuracy_score\n",
    ")\n",
    "\n",
    "from torch.utils.data import Dataset\n",
    "from transformers import (\n",
    "    AutoTokenizer, AutoModelForSequenceClassification,\n",
    "    Trainer, TrainingArguments, TrainerCallback\n",
    ")\n",
    "\n",
    "SEED = 42\n",
    "np.random.seed(SEED)\n",
    "torch.manual_seed(SEED)\n",
    "\n",
    "# =========================\n",
    "# 1) Données + indices sauvegardés\n",
    "# =========================\n",
    "idx_train = np.load(\"splits_idx_train.npy\")\n",
    "idx_val   = np.load(\"splits_idx_val.npy\")\n",
    "idx_test  = np.load(\"splits_idx_test.npy\")\n",
    "\n",
    "X_all = data[\"text\"].astype(str).to_numpy() # Nous lançons l'entrainnement sur les données brutes \n",
    "y_all = data[\"type_article\"].to_numpy()\n",
    "\n",
    "# Encodage labels\n",
    "label_encoder = LabelEncoder()\n",
    "y_enc = label_encoder.fit_transform(y_all)\n",
    "num_classes = len(label_encoder.classes_)\n",
    "print(\"Classes:\", list(label_encoder.classes_))\n",
    "\n",
    "# Splits\n",
    "X_train, X_val, X_test = X_all[idx_train], X_all[idx_val], X_all[idx_test]\n",
    "y_train, y_val, y_test = y_enc[idx_train], y_enc[idx_val], y_enc[idx_test]\n",
    "\n",
    "# =========================\n",
    "# 2) Tokenizer & modèle\n",
    "# =========================\n",
    "model_name = \"sentence-transformers/all-MiniLM-L6-v2\"\n",
    "tokenizer = AutoTokenizer.from_pretrained(model_name, use_fast=True)\n",
    "model = AutoModelForSequenceClassification.from_pretrained(model_name, num_labels=num_classes)\n",
    "\n",
    "# =========================\n",
    "# 3) Dataset PyTorch (robuste)\n",
    "# =========================\n",
    "class TextDataset(Dataset):\n",
    "    def __init__(self, texts, labels, tokenizer, max_length=256):\n",
    "        if isinstance(texts, np.ndarray):\n",
    "            texts = texts.tolist()\n",
    "        self.texts = [\n",
    "            \"\" if (t is None or (isinstance(t, float) and np.isnan(t))) else str(t)\n",
    "            for t in texts\n",
    "        ]\n",
    "        self.encodings = tokenizer(self.texts, truncation=True, padding=True, max_length=max_length)\n",
    "        self.labels = labels.tolist() if isinstance(labels, np.ndarray) else list(labels)\n",
    "        assert len(self.texts) == len(self.labels)\n",
    "\n",
    "    def __len__(self): \n",
    "        return len(self.labels)\n",
    "\n",
    "    def __getitem__(self, idx):\n",
    "        item = {k: torch.tensor(v[idx]) for k, v in self.encodings.items()}\n",
    "        item[\"labels\"] = torch.tensor(self.labels[idx], dtype=torch.long)\n",
    "        return item\n",
    "\n",
    "train_ds = TextDataset(X_train, y_train, tokenizer)\n",
    "val_ds   = TextDataset(X_val,   y_val,   tokenizer)\n",
    "test_ds  = TextDataset(X_test,  y_test,  tokenizer)\n",
    "\n",
    "# =========================\n",
    "# 4) Metrics + Callback TrainEval\n",
    "# =========================\n",
    "def compute_metrics(eval_pred):\n",
    "    # Compat: EvalPrediction (HF récent) ou tuple (anciens)\n",
    "    if hasattr(eval_pred, \"predictions\"):\n",
    "        logits = eval_pred.predictions\n",
    "        labels = eval_pred.label_ids\n",
    "    else:\n",
    "        logits, labels = eval_pred\n",
    "    preds = np.argmax(logits, axis=1)\n",
    "    return {\n",
    "        \"accuracy\": accuracy_score(labels, preds),\n",
    "        \"f1_macro\": f1_score(labels, preds, average=\"macro\"),\n",
    "        \"precision_macro\": precision_score(labels, preds, average=\"macro\", zero_division=0),\n",
    "        \"recall_macro\": recall_score(labels, preds, average=\"macro\", zero_division=0),\n",
    "    }\n",
    "\n",
    "from transformers import TrainerCallback\n",
    "import math, os\n",
    "\n",
    "class ValEvalAndEarlyStopCallback(TrainerCallback):\n",
    "    \"\"\"\n",
    "    - Évalue sur le set de validation à la fin de chaque epoch\n",
    "    - Loggue les métriques 'eval_*' dans log_history\n",
    "    - Early stopping custom basé sur training_args.metric_for_best_model et greater_is_better\n",
    "    - Sauvegarde le meilleur modèle dans output_dir/best_checkpoint\n",
    "    \"\"\"\n",
    "    def __init__(self, trainer, patience=3):\n",
    "        self.trainer = trainer\n",
    "        self.patience = patience\n",
    "        self.best_metric = None\n",
    "        self.best_epoch = None\n",
    "        self.bad_epochs = 0\n",
    "        self.best_dir = os.path.join(str(trainer.args.output_dir), \"best_checkpoint\")\n",
    "        os.makedirs(self.best_dir, exist_ok=True)\n",
    "\n",
    "        # lit la config d'arrêt\n",
    "        self.metric_name = trainer.args.metric_for_best_model or \"eval_loss\"\n",
    "        self.greater_is_better = bool(trainer.args.greater_is_better)\n",
    "\n",
    "    def _is_better(self, current, best):\n",
    "        if best is None:\n",
    "            return True\n",
    "        return (current > best) if self.greater_is_better else (current < best)\n",
    "\n",
    "    def on_epoch_end(self, args, state, control, **kwargs):\n",
    "        # 1) Évaluer VAL\n",
    "        try:\n",
    "            metrics = self.trainer.evaluate(\n",
    "                eval_dataset=self.trainer.eval_dataset,\n",
    "                metric_key_prefix=\"eval\"\n",
    "            )\n",
    "        except TypeError:\n",
    "            metrics = self.trainer.evaluate(eval_dataset=self.trainer.eval_dataset)\n",
    "\n",
    "        # 2) Ajouter l'epoch et logger explicitement\n",
    "        if state.epoch is not None:\n",
    "            metrics[\"epoch\"] = float(state.epoch)\n",
    "        self.trainer.log({k: float(v) for k, v in metrics.items()\n",
    "                          if isinstance(v, (int, float, np.floating))})\n",
    "\n",
    "        # 3) Early stopping custom\n",
    "        current = metrics.get(self.metric_name, None)\n",
    "        if current is None or (isinstance(current, float) and math.isnan(current)):\n",
    "            # rien à faire si la métrique n'est pas là\n",
    "            return control\n",
    "\n",
    "        if self._is_better(current, self.best_metric):\n",
    "            # Amélioration -> reset patience + save best\n",
    "            self.best_metric = current\n",
    "            self.best_epoch = int(round(state.epoch)) if state.epoch is not None else None\n",
    "            self.bad_epochs = 0\n",
    "            # Sauvegarder le meilleur modèle\n",
    "            self.trainer.save_model(self.best_dir)\n",
    "            if hasattr(self.trainer, \"tokenizer\") and self.trainer.tokenizer is not None:\n",
    "                self.trainer.tokenizer.save_pretrained(self.best_dir)\n",
    "            control.should_save = True\n",
    "        else:\n",
    "            # Pas d'amélioration\n",
    "            self.bad_epochs += 1\n",
    "            if self.bad_epochs >= self.patience:\n",
    "                # Stopper l'entraînement\n",
    "                control.should_training_stop = True\n",
    "\n",
    "        return control\n",
    "    \n",
    "\n",
    "# Pour avoir aussi les retours sur le jeux d'entrainement\n",
    "class TrainEvalCallback(TrainerCallback):\n",
    "    def __init__(self, trainer, train_dataset):\n",
    "        self.trainer = trainer\n",
    "        self.train_dataset = train_dataset\n",
    "\n",
    "    def on_epoch_end(self, args, state, control, **kwargs):\n",
    "        # Évalue sur TRAIN et logue train_*\n",
    "        try:\n",
    "            metrics = self.trainer.evaluate(\n",
    "                eval_dataset=self.train_dataset,\n",
    "                metric_key_prefix=\"train\"  # => train_loss, train_accuracy, ...\n",
    "            )\n",
    "        except TypeError:\n",
    "            metrics = self.trainer.evaluate(eval_dataset=self.train_dataset)\n",
    "            # Rétro-compat: préfixer manuellement si besoin\n",
    "            metrics = {f\"train_{k}\": v for k, v in metrics.items()}\n",
    "\n",
    "        if state.epoch is not None:\n",
    "            metrics[\"epoch\"] = float(state.epoch)\n",
    "\n",
    "        # pousse dans log_history (même avec report_to='none')\n",
    "        self.trainer.log({k: float(v) for k, v in metrics.items() if isinstance(v, (int, float, np.floating))})\n",
    "        return control\n",
    "\n",
    "\n",
    "# =========================\n",
    "# 5) TrainingArguments + Trainer + EarlyStopping\n",
    "# =========================\n",
    "training_args = TrainingArguments(\n",
    "    output_dir=\"./results_SBERT\",\n",
    "    num_train_epochs=20,\n",
    "    per_device_train_batch_size=16,\n",
    "    per_device_eval_batch_size=64,\n",
    "    evaluation_strategy=\"epoch\",\n",
    "    save_strategy=\"epoch\",\n",
    "    load_best_model_at_end=True,\n",
    "    metric_for_best_model=\"eval_f1_macro\",\n",
    "    greater_is_better=True,\n",
    "    logging_dir=\"./logs_SBERT\",\n",
    "    logging_strategy=\"epoch\",\n",
    "    report_to=\"none\",\n",
    "    save_total_limit=3,\n",
    "    seed=SEED,\n",
    "    dataloader_pin_memory=False,\n",
    "    # fp16=True,  # à activer si GPU FP16 dispo\n",
    ")\n",
    "\n",
    "trainer = Trainer(\n",
    "    model=model,\n",
    "    args=training_args,\n",
    "    train_dataset=train_ds,\n",
    "    eval_dataset=val_ds,\n",
    "    compute_metrics=compute_metrics,\n",
    "    tokenizer=tokenizer, \n",
    "    callbacks=[]  # <= pas de EarlyStoppingCallback natif\n",
    ")\n",
    "\n",
    "# Callback VAL + early stop custom\n",
    "val_es_cb = ValEvalAndEarlyStopCallback(trainer, patience=3)\n",
    "trainer.add_callback(val_es_cb)\n",
    "\n",
    "# Callback TRAIN pour avoir train_* dans les courbes\n",
    "train_cb = TrainEvalCallback(trainer, train_ds)\n",
    "trainer.add_callback(train_cb)\n",
    "\n",
    "\n",
    "\n",
    "# =========================\n",
    "# 6) Entraînement\n",
    "# =========================\n",
    "trainer.train()\n",
    "\n",
    "# =========================\n",
    "# 7) Historique pour tracés (robuste aux clés manquantes)\n",
    "# =========================\n",
    "log_hist = trainer.state.log_history\n",
    "hist_df = pd.DataFrame(log_hist)\n",
    "\n",
    "# Crée toutes les colonnes attendues si absentes pour éviter KeyError\n",
    "needed_cols = [\"epoch\",\"eval_loss\",\"eval_accuracy\",\"eval_f1_macro\",\n",
    "          \"train_loss\",\"train_accuracy\",\"train_f1_macro\",\n",
    "          \"train_precision_macro\",\"train_recall_macro\"]\n",
    "for c in needed_cols:\n",
    "    if c not in hist_df.columns:\n",
    "        hist_df[c] = np.nan\n",
    "\n",
    "# Ne garder que les lignes avec epoch défini et forcer epoch en int\n",
    "hist_df = hist_df[pd.to_numeric(hist_df[\"epoch\"], errors=\"coerce\").notna()].copy()\n",
    "hist_df[\"epoch\"] = hist_df[\"epoch\"].astype(float).round().astype(int)\n",
    "\n",
    "# Convertir toutes les métriques numériques en float (coerce -> NaN si non num)\n",
    "metric_cols = [c for c in needed_cols if c != \"epoch\"]\n",
    "for c in metric_cols:\n",
    "    hist_df[c] = pd.to_numeric(hist_df[c], errors=\"coerce\")\n",
    "\n",
    "# Fonction utilitaire: dernière valeur non-NaN dans un groupe\n",
    "def last_not_nan(s: pd.Series):\n",
    "    s = s.dropna()\n",
    "    return s.iloc[-1] if len(s) else np.nan\n",
    "\n",
    "# Agrégation par epoch: on prend la DERNIÈRE valeur non-NaN de chaque métrique\n",
    "curves = (\n",
    "    hist_df\n",
    "    .sort_values([\"epoch\"])  # important: on veut la \"dernière\" dans l'ordre\n",
    "    .groupby(\"epoch\", as_index=False)\n",
    "    .agg({col: last_not_nan for col in metric_cols})\n",
    "    .sort_values(\"epoch\")\n",
    "    .reset_index(drop=True)\n",
    ")\n",
    "\n",
    "print(\"\\nAperçu des courbes (par epoch):\\n\", curves.head(10))\n",
    "# ============================================================================\n",
    "\n",
    "# Exemple de tracés \"safe\"\n",
    "def _safe_plot(x, y, label):\n",
    "    s = pd.Series(y)\n",
    "    if s.notna().any():\n",
    "        plt.plot(x, y, marker=\"o\", label=label)\n",
    "\n",
    "plt.figure(figsize=(7,5))\n",
    "_safe_plot(curves[\"epoch\"], curves[\"train_loss\"], \"Train Loss\")\n",
    "_safe_plot(curves[\"epoch\"], curves[\"eval_loss\"],  \"Val Loss\")\n",
    "plt.xlabel(\"Epoch\"); plt.ylabel(\"Loss\"); plt.title(\"Courbe d'apprentissage (Loss)\")\n",
    "plt.legend(); plt.grid(True); plt.tight_layout(); plt.show()\n",
    "\n",
    "plt.figure(figsize=(7,5))\n",
    "_safe_plot(curves[\"epoch\"], curves[\"train_accuracy\"], \"Train Accuracy\")\n",
    "_safe_plot(curves[\"epoch\"], curves[\"eval_accuracy\"],  \"Val Accuracy\")\n",
    "plt.xlabel(\"Epoch\"); plt.ylabel(\"Accuracy\"); plt.title(\"Accuracy — Train vs Val\")\n",
    "plt.legend(); plt.grid(True); plt.tight_layout(); plt.show()\n",
    "\n",
    "plt.figure(figsize=(7,5))\n",
    "_safe_plot(curves[\"epoch\"], curves[\"train_f1_macro\"], \"Train F1 (macro)\")\n",
    "_safe_plot(curves[\"epoch\"], curves[\"eval_f1_macro\"],  \"Val F1 (macro)\")\n",
    "plt.xlabel(\"Epoch\"); plt.ylabel(\"F1 (macro)\"); plt.title(\"F1 macro — Train vs Val\")\n",
    "plt.legend(); plt.grid(True); plt.tight_layout(); plt.show()\n",
    "\n",
    "# =========================\n",
    "# 9) Évaluation finale sur TEST\n",
    "# =========================\n",
    "# Recharger le meilleur modèle pour la phase TEST\n",
    "best_dir = os.path.join(training_args.output_dir, \"best_checkpoint\")\n",
    "if os.path.isdir(best_dir):\n",
    "    model = AutoModelForSequenceClassification.from_pretrained(best_dir).to(model.device)\n",
    "    trainer.model = model\n",
    "\n",
    "preds_test = trainer.predict(test_ds)\n",
    "y_pred = np.argmax(preds_test.predictions, axis=1)\n",
    "y_scores = torch.softmax(torch.tensor(preds_test.predictions), dim=1).numpy()\n",
    "\n",
    "print(\"\\n=== Rapport de classification (TEST) ===\")\n",
    "print(classification_report(y_test, y_pred, target_names=label_encoder.classes_))\n",
    "\n",
    "cm = confusion_matrix(y_test, y_pred)\n",
    "disp = ConfusionMatrixDisplay(confusion_matrix=cm, display_labels=label_encoder.classes_)\n",
    "disp.plot(cmap=\"Blues\")\n",
    "plt.xticks(rotation=45)\n",
    "plt.title(\"Matrice de confusion — TEST\")\n",
    "plt.tight_layout()\n",
    "plt.show()\n",
    "\n",
    "# Courbe PR pour \"VS\" si présent\n",
    "classes = list(label_encoder.classes_)\n",
    "if \"VS\" in classes:\n",
    "    vs_idx = classes.index(\"VS\")\n",
    "    y_true_bin = (y_test == vs_idx).astype(int)\n",
    "    y_prob_vs = y_scores[:, vs_idx]\n",
    "    precision, recall, _ = precision_recall_curve(y_true_bin, y_prob_vs)\n",
    "    auc_pr = average_precision_score(y_true_bin, y_prob_vs)\n",
    "    plt.figure(figsize=(7,5))\n",
    "    plt.plot(recall, precision, label=f\"AUC-PR = {auc_pr:.3f}\")\n",
    "    plt.xlabel(\"Recall\"); plt.ylabel(\"Precision\")\n",
    "    plt.title(\"Precision–Recall (classe VS) — TEST\")\n",
    "    plt.legend(); plt.grid(True); plt.tight_layout(); plt.show()\n",
    "else:\n",
    "    print(\"La classe 'VS' n'est pas présente dans les labels. PR-curve sautée.\")\n",
    "\n",
    "# =========================\n",
    "# 10) Sauvegardes\n",
    "# =========================\n",
    "save_dir = \"results_SBERT\"\n",
    "os.makedirs(save_dir, exist_ok=True)\n",
    "\n",
    "trainer.model.save_pretrained(save_dir)\n",
    "tokenizer.save_pretrained(save_dir)\n",
    "joblib.dump(label_encoder, os.path.join(save_dir, \"label_encoder.joblib\"))\n",
    "\n",
    "curves.to_csv(os.path.join(save_dir, \"learning_curves.csv\"), index=False)\n",
    "with open(os.path.join(save_dir, \"log_history.json\"), \"w\", encoding=\"utf-8\") as f:\n",
    "    json.dump(log_hist, f, ensure_ascii=False, indent=2)\n",
    "\n",
    "print(f\"\\nBest model saved to: {best_dir} (metric {training_args.metric_for_best_model} \"\n",
    "      f\"with greater_is_better={training_args.greater_is_better})\")\n"
   ]
  },
  {
   "cell_type": "markdown",
   "id": "98609e38",
   "metadata": {},
   "source": [
    "### Nous allons essayer d'obtenir des explications par tokens (mot/sous-mots) de notre modèle fine-tuné avec l'option *Integrated Gradients (Captum)* sur la couche d'embedding du modèle. \n",
    "\n",
    "L'avantage de cette option est qu'elle est assez fidèle et on n'a pas besoin de pertuber le texte comme LIME/SHAP"
   ]
  },
  {
   "cell_type": "code",
   "execution_count": 19,
   "id": "d41414bb",
   "metadata": {},
   "outputs": [
    {
     "name": "stdout",
     "output_type": "stream",
     "text": [
      "Explications par échantillon -> results_SBERT\\ig_explanations_test.csv\n",
      "Top tokens globaux (VS) -> results_SBERT\\ig_tokens_top_global_vs.csv\n"
     ]
    }
   ],
   "source": [
    "import os, json, joblib, re, numpy as np, pandas as pd, torch\n",
    "from transformers import AutoTokenizer, AutoModelForSequenceClassification\n",
    "from captum.attr import IntegratedGradients\n",
    "from sklearn.preprocessing import LabelEncoder\n",
    "from nltk.tokenize import word_tokenize\n",
    "from nltk.corpus import stopwords\n",
    "from nltk.stem import WordNetLemmatizer\n",
    "from string import punctuation\n",
    "import nltk\n",
    "\n",
    "# ========= 0) Réglages =========\n",
    "SAVE_DIR = \"results_SBERT\"\n",
    "APPLY_CLEANING = True           # Mettons False si nous fine-tunons sur texte brut\n",
    "TOPK = 15                       # nb de tokens à garder par sample\n",
    "N_STEPS = 32                    # IG steps (32-64 raisonnable)\n",
    "MAX_LEN = 256\n",
    "ONLY_FOR_VS = False             # True -> ne calcule IG que pour les prédictions VS (plus rapide)\n",
    "AGGREGATE_SUBWORDS = True       # aggréger \"##\" pour lire des mots entiers\n",
    "DEVICE = torch.device(\"cuda\" if torch.cuda.is_available() else \"cpu\")\n",
    "\n",
    "# ========= 1) NLTK =========\n",
    "if APPLY_CLEANING:\n",
    "    stop_words = set(stopwords.words(\"english\"))\n",
    "    lemmatizer = WordNetLemmatizer()\n",
    "    custom_stopwords = {\"et\", \"al\"}\n",
    "\n",
    "    def nettoyer_texte(texte: str) -> str:\n",
    "        tokens = word_tokenize(texte)\n",
    "        out = []\n",
    "        for tok in tokens:\n",
    "            tok = tok.lower()\n",
    "            tok = re.sub(r\"\\s+\", \"\", tok)\n",
    "            tok = re.sub(r\"[^a-zàâçéèêëîïôûùüÿñæœ]\", \"\", tok)\n",
    "            if tok and tok not in stop_words and tok not in punctuation and tok not in custom_stopwords:\n",
    "                tok = lemmatizer.lemmatize(tok)\n",
    "                out.append(tok)\n",
    "        return \" \".join(out)\n",
    "\n",
    "def maybe_clean(text):\n",
    "    return nettoyer_texte(text) if APPLY_CLEANING else text\n",
    "\n",
    "# ========= 2) Charger modèle + tokenizer + labels =========\n",
    "tokenizer = AutoTokenizer.from_pretrained(SAVE_DIR)\n",
    "model = AutoModelForSequenceClassification.from_pretrained(SAVE_DIR).to(DEVICE)\n",
    "model.eval()\n",
    "le = joblib.load(os.path.join(SAVE_DIR, \"label_encoder.joblib\"))\n",
    "classes = list(le.classes_)\n",
    "target_label = \"VS\" if \"VS\" in classes else classes[1]\n",
    "target_idx = classes.index(target_label)\n",
    "\n",
    "def forward_embeds(inputs_embeds, attention_mask):\n",
    "    out = model(inputs_embeds=inputs_embeds, attention_mask=attention_mask)\n",
    "    return torch.softmax(out.logits, dim=1)\n",
    "\n",
    "# ========= 3) Données de test via indices figés =========\n",
    "idx_test = np.load(\"splits_idx_test.npy\")\n",
    "X_all = data[\"text_clean\"].astype(str).to_numpy()\n",
    "y_all = data[\"type_article\"].to_numpy()\n",
    "X_test = X_all[idx_test]\n",
    "y_test = y_all[idx_test]\n",
    "\n",
    "# ========= 4) Fonction IG (avec cleaning avant tokenisation) =========\n",
    "def explain_one(text, n_steps=N_STEPS, aggregate_subwords=AGGREGATE_SUBWORDS, max_length=MAX_LEN):\n",
    "    text_in = maybe_clean(text)\n",
    "\n",
    "    enc = tokenizer(text_in, return_tensors=\"pt\", truncation=True, padding=False, max_length=max_length).to(DEVICE)\n",
    "    input_ids, attention_mask = enc[\"input_ids\"], enc[\"attention_mask\"]\n",
    "\n",
    "    emb_layer = model.get_input_embeddings()\n",
    "    inputs_embeds = emb_layer(input_ids)                 # (1, L, H)\n",
    "    baselines     = torch.zeros_like(inputs_embeds)\n",
    "\n",
    "    ig = IntegratedGradients(lambda x: forward_embeds(x, attention_mask))\n",
    "\n",
    "    # une seule valeur renvoyée\n",
    "    attributions = ig.attribute(\n",
    "        inputs=inputs_embeds,\n",
    "        baselines=baselines,\n",
    "        target=target_idx,\n",
    "        n_steps=n_steps,\n",
    "        internal_batch_size=16,\n",
    "        return_convergence_delta=False\n",
    "    )\n",
    "\n",
    "\n",
    "    token_imp = attributions.squeeze(0).sum(dim=-1).abs().detach().cpu().numpy()  # (L,)\n",
    "    ids = input_ids.squeeze(0).tolist()\n",
    "    tokens = tokenizer.convert_ids_to_tokens(ids)\n",
    "\n",
    "    # Enlever tokens spéciaux\n",
    "    special_ids = set(tokenizer.all_special_ids)\n",
    "    keep = [i for i, tid in enumerate(ids) if tid not in special_ids]\n",
    "    tokens_kept = [tokens[i] for i in keep]\n",
    "    imps_kept = token_imp[keep]\n",
    "\n",
    "    # Agrégation des sous-mots\n",
    "    if aggregate_subwords:\n",
    "        words, scores = [], []\n",
    "        cur_w, cur_s = \"\", 0.0\n",
    "        for tok, sc in zip(tokens_kept, imps_kept):\n",
    "            if tok.startswith(\"##\"):\n",
    "                cur_w += tok[2:]; cur_s += sc\n",
    "            else:\n",
    "                if cur_w:\n",
    "                    words.append(cur_w); scores.append(cur_s)\n",
    "                cur_w, cur_s = tok, sc\n",
    "        if cur_w:\n",
    "            words.append(cur_w); scores.append(cur_s)\n",
    "        tokens_final, imps_final = words, np.array(scores)\n",
    "    else:\n",
    "        tokens_final, imps_final = tokens_kept, np.array(imps_kept)\n",
    "\n",
    "    # Normalisation 0-1\n",
    "    denom = imps_final.max() if imps_final.size and imps_final.max() > 0 else 1.0\n",
    "    norm_imp = imps_final / denom\n",
    "\n",
    "    with torch.no_grad():\n",
    "        probs = forward_embeds(inputs_embeds, attention_mask).squeeze(0).cpu().numpy()\n",
    "    pred_idx = int(probs.argmax())\n",
    "    pred_label = classes[pred_idx]\n",
    "    prob_target = float(probs[target_idx])\n",
    "\n",
    "    # Top-k\n",
    "    order = np.argsort(-norm_imp)\n",
    "    top_idx = order[:TOPK]\n",
    "    top_tokens = [(tokens_final[i], float(norm_imp[i])) for i in top_idx]\n",
    "\n",
    "    return {\n",
    "        \"text_in\": text_in,\n",
    "        \"pred_label\": pred_label,\n",
    "        \"prob_target\": prob_target,\n",
    "        \"top_tokens\": top_tokens,\n",
    "        \"tokens\": tokens_final,            # complet si besoin\n",
    "        \"importances\": norm_imp.tolist(),  # complet si besoin\n",
    "    }\n",
    "\n",
    "# ========= 5) Boucle sur tout le test =========\n",
    "rows = []\n",
    "token_counter_vs = {}  # agrégation globale VS\n",
    "\n",
    "with torch.no_grad():\n",
    "    # on fait d’abord les prédictions pour savoir si on filtre par VS\n",
    "    batch = [maybe_clean(t) for t in X_test.tolist()]\n",
    "    enc = tokenizer(batch, padding=True, truncation=True, max_length=MAX_LEN, return_tensors=\"pt\").to(DEVICE)\n",
    "    logits = model(**enc).logits\n",
    "    probs = torch.softmax(logits, dim=1).cpu().numpy()\n",
    "    pred_idx_all = probs.argmax(axis=1)\n",
    "    pred_label_all = [classes[i] for i in pred_idx_all]\n",
    "\n",
    "for i, txt in enumerate(X_test):\n",
    "    if ONLY_FOR_VS and pred_label_all[i] != \"VS\":\n",
    "        continue\n",
    "    expl = explain_one(txt)\n",
    "\n",
    "    # alimenter lignes CSV\n",
    "    top_str = \"; \".join([f\"{tok}:{sc:.3f}\" for tok, sc in expl[\"top_tokens\"]])\n",
    "    rows.append({\n",
    "        \"i\": i,\n",
    "        \"true_label\": y_test[i],\n",
    "        \"true_label_name\": str(y_test[i]),\n",
    "        \"pred_label\": expl[\"pred_label\"],\n",
    "        \"p(VS)\": expl[\"prob_target\"],\n",
    "        \"text_cleaned\": expl[\"text_in\"],\n",
    "        \"top_tokens\": top_str\n",
    "    })\n",
    "\n",
    "    # agrégation globale VS\n",
    "    if expl[\"pred_label\"] == \"VS\":\n",
    "        for tok, sc in expl[\"top_tokens\"]:\n",
    "            token_counter_vs[tok] = token_counter_vs.get(tok, 0.0) + sc\n",
    "\n",
    "# ========= 6) Sauvegardes =========\n",
    "os.makedirs(SAVE_DIR, exist_ok=True)\n",
    "df_expl = pd.DataFrame(rows)\n",
    "df_expl.to_csv(os.path.join(SAVE_DIR, \"ig_explanations_test.csv\"), index=False)\n",
    "\n",
    "# Top tokens globaux (VS)\n",
    "agg_vs = sorted(token_counter_vs.items(), key=lambda x: -x[1])\n",
    "df_agg = pd.DataFrame(agg_vs, columns=[\"token\", \"cum_importance\"])\n",
    "df_agg.to_csv(os.path.join(SAVE_DIR, \"ig_tokens_top_global_vs.csv\"), index=False)\n",
    "\n",
    "print(f\"Explications par échantillon -> {os.path.join(SAVE_DIR, 'ig_explanations_test.csv')}\")\n",
    "print(f\"Top tokens globaux (VS) -> {os.path.join(SAVE_DIR, 'ig_tokens_top_global_vs.csv')}\")\n"
   ]
  },
  {
   "cell_type": "code",
   "execution_count": 20,
   "id": "56bc2c22",
   "metadata": {},
   "outputs": [
    {
     "data": {
      "text/html": [
       "<div>\n",
       "<style scoped>\n",
       "    .dataframe tbody tr th:only-of-type {\n",
       "        vertical-align: middle;\n",
       "    }\n",
       "\n",
       "    .dataframe tbody tr th {\n",
       "        vertical-align: top;\n",
       "    }\n",
       "\n",
       "    .dataframe thead th {\n",
       "        text-align: right;\n",
       "    }\n",
       "</style>\n",
       "<table border=\"1\" class=\"dataframe\">\n",
       "  <thead>\n",
       "    <tr style=\"text-align: right;\">\n",
       "      <th></th>\n",
       "      <th>token</th>\n",
       "      <th>cum_importance</th>\n",
       "    </tr>\n",
       "  </thead>\n",
       "  <tbody>\n",
       "    <tr>\n",
       "      <th>0</th>\n",
       "      <td>disease</td>\n",
       "      <td>25.496681</td>\n",
       "    </tr>\n",
       "    <tr>\n",
       "      <th>1</th>\n",
       "      <td>mysterious</td>\n",
       "      <td>12.076708</td>\n",
       "    </tr>\n",
       "    <tr>\n",
       "      <th>2</th>\n",
       "      <td>mystery</td>\n",
       "      <td>10.486402</td>\n",
       "    </tr>\n",
       "    <tr>\n",
       "      <th>3</th>\n",
       "      <td>unknown</td>\n",
       "      <td>4.410726</td>\n",
       "    </tr>\n",
       "    <tr>\n",
       "      <th>4</th>\n",
       "      <td>diseased</td>\n",
       "      <td>0.883053</td>\n",
       "    </tr>\n",
       "    <tr>\n",
       "      <th>5</th>\n",
       "      <td>animal</td>\n",
       "      <td>0.868699</td>\n",
       "    </tr>\n",
       "    <tr>\n",
       "      <th>6</th>\n",
       "      <td>sanislau</td>\n",
       "      <td>0.833280</td>\n",
       "    </tr>\n",
       "    <tr>\n",
       "      <th>7</th>\n",
       "      <td>plant</td>\n",
       "      <td>0.670371</td>\n",
       "    </tr>\n",
       "    <tr>\n",
       "      <th>8</th>\n",
       "      <td>illness</td>\n",
       "      <td>0.418454</td>\n",
       "    </tr>\n",
       "    <tr>\n",
       "      <th>9</th>\n",
       "      <td>found</td>\n",
       "      <td>0.353216</td>\n",
       "    </tr>\n",
       "    <tr>\n",
       "      <th>10</th>\n",
       "      <td>reported</td>\n",
       "      <td>0.335855</td>\n",
       "    </tr>\n",
       "    <tr>\n",
       "      <th>11</th>\n",
       "      <td>florida</td>\n",
       "      <td>0.323134</td>\n",
       "    </tr>\n",
       "    <tr>\n",
       "      <th>12</th>\n",
       "      <td>detected</td>\n",
       "      <td>0.314988</td>\n",
       "    </tr>\n",
       "    <tr>\n",
       "      <th>13</th>\n",
       "      <td>dog</td>\n",
       "      <td>0.297818</td>\n",
       "    </tr>\n",
       "    <tr>\n",
       "      <th>14</th>\n",
       "      <td>diseaselaurie</td>\n",
       "      <td>0.294150</td>\n",
       "    </tr>\n",
       "    <tr>\n",
       "      <th>15</th>\n",
       "      <td>first</td>\n",
       "      <td>0.286317</td>\n",
       "    </tr>\n",
       "    <tr>\n",
       "      <th>16</th>\n",
       "      <td>outbreak</td>\n",
       "      <td>0.282870</td>\n",
       "    </tr>\n",
       "    <tr>\n",
       "      <th>17</th>\n",
       "      <td>source</td>\n",
       "      <td>0.274795</td>\n",
       "    </tr>\n",
       "    <tr>\n",
       "      <th>18</th>\n",
       "      <td>chronic</td>\n",
       "      <td>0.264396</td>\n",
       "    </tr>\n",
       "    <tr>\n",
       "      <th>19</th>\n",
       "      <td>workplace</td>\n",
       "      <td>0.258805</td>\n",
       "    </tr>\n",
       "  </tbody>\n",
       "</table>\n",
       "</div>"
      ],
      "text/plain": [
       "            token  cum_importance\n",
       "0         disease       25.496681\n",
       "1      mysterious       12.076708\n",
       "2         mystery       10.486402\n",
       "3         unknown        4.410726\n",
       "4        diseased        0.883053\n",
       "5          animal        0.868699\n",
       "6        sanislau        0.833280\n",
       "7           plant        0.670371\n",
       "8         illness        0.418454\n",
       "9           found        0.353216\n",
       "10       reported        0.335855\n",
       "11        florida        0.323134\n",
       "12       detected        0.314988\n",
       "13            dog        0.297818\n",
       "14  diseaselaurie        0.294150\n",
       "15          first        0.286317\n",
       "16       outbreak        0.282870\n",
       "17         source        0.274795\n",
       "18        chronic        0.264396\n",
       "19      workplace        0.258805"
      ]
     },
     "execution_count": 20,
     "metadata": {},
     "output_type": "execute_result"
    }
   ],
   "source": [
    "explain_test = pd.read_csv(\"results_SBERT\\ig_tokens_top_global_vs.csv\")\n",
    "\n",
    "explain_test.head(20)"
   ]
  },
  {
   "cell_type": "markdown",
   "id": "12dbfdbf",
   "metadata": {},
   "source": [
    "### Appliquons un test avec des phrases pour voir comment le modèle s'en sort "
   ]
  },
  {
   "cell_type": "code",
   "execution_count": 18,
   "id": "e94cff49",
   "metadata": {},
   "outputs": [
    {
     "name": "stdout",
     "output_type": "stream",
     "text": [
      "\n",
      "------------------------------------------------------------------------------------------\n",
      "Texte : An unusual illness was detected among domestic animals, with authorities reporting several instances of an unclassified sickness in the region.\n",
      "-> Classe prédite : VS\n",
      "  P(VS) = 0.7830\n",
      "  P(NVS) = 0.2170\n",
      "\n",
      "------------------------------------------------------------------------------------------\n",
      "Texte : The municipality revealed plans for a new public park in the city center, aiming to draw more tourists and enhance the urban landscape.\n",
      "-> Classe prédite : NVS\n",
      "  P(NVS) = 0.9962\n",
      "  P(VS) = 0.0038\n"
     ]
    }
   ],
   "source": [
    "# =========================\n",
    "# Inference SBERT fine-tuné (texte brut par défaut)\n",
    "# =========================\n",
    "import os, torch, joblib, numpy as np\n",
    "from typing import List, Tuple\n",
    "from transformers import AutoTokenizer, AutoModelForSequenceClassification\n",
    "\n",
    "SAVE_DIR = \"results_SBERT\"\n",
    "LE_PATH  = os.path.join(SAVE_DIR, \"label_encoder.joblib\")\n",
    "\n",
    "device = torch.device(\"cuda\" if torch.cuda.is_available() else \"cpu\")\n",
    "tokenizer = AutoTokenizer.from_pretrained(SAVE_DIR)\n",
    "model = AutoModelForSequenceClassification.from_pretrained(SAVE_DIR).to(device)\n",
    "model.eval()\n",
    "\n",
    "# Récup des noms de classes\n",
    "try:\n",
    "    le = joblib.load(LE_PATH)\n",
    "    classes = list(le.classes_)\n",
    "except Exception:\n",
    "    # fallback: si id2label est présent dans le config du modèle\n",
    "    cfg = model.config\n",
    "    if hasattr(cfg, \"id2label\") and cfg.id2label:\n",
    "        classes = [cfg.id2label[i] for i in range(cfg.num_labels)]\n",
    "    else:\n",
    "        classes = [f\"CLASS_{i}\" for i in range(model.config.num_labels)]\n",
    "\n",
    "# (Optionnel) un prétraitement simple si tu veux tester les effets (DÉSACTIVÉ par défaut)\n",
    "def _very_light_clean(text: str) -> str:\n",
    "    # on ne touche ni aux stopwords ni à la lemmatisation pour ne pas nuire à SBERT\n",
    "    return \" \".join(str(text).split())\n",
    "\n",
    "def preprocess_for_inference(texts: List[str], enable: bool = False) -> List[str]:\n",
    "    return [_very_light_clean(t) if enable else t for t in texts]\n",
    "\n",
    "@torch.no_grad()\n",
    "def predict_sbert(\n",
    "    texts: List[str],\n",
    "    max_length: int = 256,\n",
    "    batch_size: int = 32,\n",
    "    preprocess: bool = False\n",
    ") -> Tuple[List[str], np.ndarray, List[str]]:\n",
    "    \"\"\"\n",
    "    Retourne:\n",
    "      - inputs_used: textes effectivement passés au tokenizer (prétraités ou bruts)\n",
    "      - probs: array shape (N, num_classes) avec softmax\n",
    "      - labels_pred: label argmax par texte\n",
    "    \"\"\"\n",
    "    inputs_used = preprocess_for_inference(texts, enable=preprocess)\n",
    "\n",
    "    all_probs, all_preds = [], []\n",
    "    for i in range(0, len(inputs_used), batch_size):\n",
    "        batch = inputs_used[i:i+batch_size]\n",
    "        enc = tokenizer(\n",
    "            batch,\n",
    "            padding=True,\n",
    "            truncation=True,\n",
    "            max_length=max_length,\n",
    "            return_tensors=\"pt\"\n",
    "        ).to(device)\n",
    "\n",
    "        logits = model(**enc).logits\n",
    "        probs  = torch.softmax(logits, dim=1).cpu().numpy()\n",
    "        preds  = probs.argmax(axis=1)\n",
    "\n",
    "        all_probs.append(probs)\n",
    "        all_preds.append(preds)\n",
    "\n",
    "    probs = np.vstack(all_probs) if all_probs else np.zeros((0, len(classes)))\n",
    "    preds = np.concatenate(all_preds) if all_preds else np.array([], dtype=int)\n",
    "    labels_pred = [classes[i] for i in preds]\n",
    "    return inputs_used, probs, labels_pred\n",
    "\n",
    "def print_predictions(texts: List[str], probs: np.ndarray, labels_pred: List[str], topk: int = None):\n",
    "    num_classes = probs.shape[1]\n",
    "    for i, txt in enumerate(texts):\n",
    "        print(\"\\n\" + \"-\"*90)\n",
    "        print(f\"Texte : {txt}\")\n",
    "        print(f\"-> Classe prédite : {labels_pred[i]}\")\n",
    "        # tri décroissant des probas\n",
    "        order = np.argsort(-probs[i])\n",
    "        k = topk if topk is not None else num_classes\n",
    "        for j in order[:k]:\n",
    "            print(f\"  P({classes[j]}) = {probs[i, j]:.4f}\")\n",
    "\n",
    "def classify(texts: List[str], preprocess: bool = False, topk: int = None):\n",
    "    inputs_used, probs, labels_pred = predict_sbert(texts, preprocess=preprocess)\n",
    "    print_predictions(texts, probs, labels_pred, topk=topk)\n",
    "    return inputs_used, probs, labels_pred\n",
    "\n",
    "# === Exemples de test (texte BRUT recommandé) ===\n",
    "phrases_test = [\n",
    "    \"An unusual illness was detected among domestic animals, with authorities reporting several instances of an unclassified sickness in the region.\",\n",
    "    \"The municipality revealed plans for a new public park in the city center, aiming to draw more tourists and enhance the urban landscape.\"\n",
    "]\n",
    "\n",
    "_ = classify(phrases_test, preprocess=False, topk=None)  # preprocess=False pour SBERT\n"
   ]
  }
 ],
 "metadata": {
  "kernelspec": {
   "display_name": ".venv",
   "language": "python",
   "name": "python3"
  },
  "language_info": {
   "codemirror_mode": {
    "name": "ipython",
    "version": 3
   },
   "file_extension": ".py",
   "mimetype": "text/x-python",
   "name": "python",
   "nbconvert_exporter": "python",
   "pygments_lexer": "ipython3",
   "version": "3.9.6"
  }
 },
 "nbformat": 4,
 "nbformat_minor": 5
}
